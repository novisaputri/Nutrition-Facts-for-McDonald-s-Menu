{
  "nbformat": 4,
  "nbformat_minor": 0,
  "metadata": {
    "colab": {
      "name": "Nutrition Facts for McDonald's Menu",
      "provenance": [],
      "collapsed_sections": []
    },
    "kernelspec": {
      "name": "python3",
      "display_name": "Python 3"
    }
  },
  "cells": [
    {
      "cell_type": "code",
      "metadata": {
        "id": "P0M4Tjk2lLZH"
      },
      "source": [
        "import random \n",
        "import numpy as np \n",
        "import pandas as pd\n",
        "from pandas import plotting\n",
        "import seaborn as sns\n",
        "import matplotlib.pyplot as plt \n",
        "import plotly.graph_objects as go\n",
        "\n",
        "import warnings\n",
        "warnings.filterwarnings('ignore')\n",
        " \n",
        "%matplotlib inline"
      ],
      "execution_count": null,
      "outputs": []
    },
    {
      "cell_type": "markdown",
      "metadata": {
        "id": "wpqMOhUkkawg"
      },
      "source": [
        "## **Import Datasets**"
      ]
    },
    {
      "cell_type": "code",
      "metadata": {
        "id": "XOD0tyJriXr-"
      },
      "source": [
        "data=pd.read_csv('menu.csv')\n",
        "df=data.copy()"
      ],
      "execution_count": null,
      "outputs": []
    },
    {
      "cell_type": "code",
      "metadata": {
        "id": "5t9Xx1zXeU0B",
        "outputId": "81c1643f-df22-47fe-cec4-e770126d2af9",
        "colab": {
          "base_uri": "https://localhost:8080/",
          "height": 434
        }
      },
      "source": [
        "df.head()"
      ],
      "execution_count": null,
      "outputs": [
        {
          "output_type": "execute_result",
          "data": {
            "text/html": [
              "<div>\n",
              "<style scoped>\n",
              "    .dataframe tbody tr th:only-of-type {\n",
              "        vertical-align: middle;\n",
              "    }\n",
              "\n",
              "    .dataframe tbody tr th {\n",
              "        vertical-align: top;\n",
              "    }\n",
              "\n",
              "    .dataframe thead th {\n",
              "        text-align: right;\n",
              "    }\n",
              "</style>\n",
              "<table border=\"1\" class=\"dataframe\">\n",
              "  <thead>\n",
              "    <tr style=\"text-align: right;\">\n",
              "      <th></th>\n",
              "      <th>Category</th>\n",
              "      <th>Item</th>\n",
              "      <th>Serving Size</th>\n",
              "      <th>Calories</th>\n",
              "      <th>Calories from Fat</th>\n",
              "      <th>Total Fat</th>\n",
              "      <th>Total Fat (% Daily Value)</th>\n",
              "      <th>Saturated Fat</th>\n",
              "      <th>Saturated Fat (% Daily Value)</th>\n",
              "      <th>Trans Fat</th>\n",
              "      <th>Cholesterol</th>\n",
              "      <th>Cholesterol (% Daily Value)</th>\n",
              "      <th>Sodium</th>\n",
              "      <th>Sodium (% Daily Value)</th>\n",
              "      <th>Carbohydrates</th>\n",
              "      <th>Carbohydrates (% Daily Value)</th>\n",
              "      <th>Dietary Fiber</th>\n",
              "      <th>Dietary Fiber (% Daily Value)</th>\n",
              "      <th>Sugars</th>\n",
              "      <th>Protein</th>\n",
              "      <th>Vitamin A (% Daily Value)</th>\n",
              "      <th>Vitamin C (% Daily Value)</th>\n",
              "      <th>Calcium (% Daily Value)</th>\n",
              "      <th>Iron (% Daily Value)</th>\n",
              "    </tr>\n",
              "  </thead>\n",
              "  <tbody>\n",
              "    <tr>\n",
              "      <th>0</th>\n",
              "      <td>Breakfast</td>\n",
              "      <td>Egg McMuffin</td>\n",
              "      <td>4.8 oz (136 g)</td>\n",
              "      <td>300</td>\n",
              "      <td>120</td>\n",
              "      <td>13.0</td>\n",
              "      <td>20</td>\n",
              "      <td>5.0</td>\n",
              "      <td>25</td>\n",
              "      <td>0.0</td>\n",
              "      <td>260</td>\n",
              "      <td>87</td>\n",
              "      <td>750</td>\n",
              "      <td>31</td>\n",
              "      <td>31</td>\n",
              "      <td>10</td>\n",
              "      <td>4</td>\n",
              "      <td>17</td>\n",
              "      <td>3</td>\n",
              "      <td>17</td>\n",
              "      <td>10</td>\n",
              "      <td>0</td>\n",
              "      <td>25</td>\n",
              "      <td>15</td>\n",
              "    </tr>\n",
              "    <tr>\n",
              "      <th>1</th>\n",
              "      <td>Breakfast</td>\n",
              "      <td>Egg White Delight</td>\n",
              "      <td>4.8 oz (135 g)</td>\n",
              "      <td>250</td>\n",
              "      <td>70</td>\n",
              "      <td>8.0</td>\n",
              "      <td>12</td>\n",
              "      <td>3.0</td>\n",
              "      <td>15</td>\n",
              "      <td>0.0</td>\n",
              "      <td>25</td>\n",
              "      <td>8</td>\n",
              "      <td>770</td>\n",
              "      <td>32</td>\n",
              "      <td>30</td>\n",
              "      <td>10</td>\n",
              "      <td>4</td>\n",
              "      <td>17</td>\n",
              "      <td>3</td>\n",
              "      <td>18</td>\n",
              "      <td>6</td>\n",
              "      <td>0</td>\n",
              "      <td>25</td>\n",
              "      <td>8</td>\n",
              "    </tr>\n",
              "    <tr>\n",
              "      <th>2</th>\n",
              "      <td>Breakfast</td>\n",
              "      <td>Sausage McMuffin</td>\n",
              "      <td>3.9 oz (111 g)</td>\n",
              "      <td>370</td>\n",
              "      <td>200</td>\n",
              "      <td>23.0</td>\n",
              "      <td>35</td>\n",
              "      <td>8.0</td>\n",
              "      <td>42</td>\n",
              "      <td>0.0</td>\n",
              "      <td>45</td>\n",
              "      <td>15</td>\n",
              "      <td>780</td>\n",
              "      <td>33</td>\n",
              "      <td>29</td>\n",
              "      <td>10</td>\n",
              "      <td>4</td>\n",
              "      <td>17</td>\n",
              "      <td>2</td>\n",
              "      <td>14</td>\n",
              "      <td>8</td>\n",
              "      <td>0</td>\n",
              "      <td>25</td>\n",
              "      <td>10</td>\n",
              "    </tr>\n",
              "    <tr>\n",
              "      <th>3</th>\n",
              "      <td>Breakfast</td>\n",
              "      <td>Sausage McMuffin with Egg</td>\n",
              "      <td>5.7 oz (161 g)</td>\n",
              "      <td>450</td>\n",
              "      <td>250</td>\n",
              "      <td>28.0</td>\n",
              "      <td>43</td>\n",
              "      <td>10.0</td>\n",
              "      <td>52</td>\n",
              "      <td>0.0</td>\n",
              "      <td>285</td>\n",
              "      <td>95</td>\n",
              "      <td>860</td>\n",
              "      <td>36</td>\n",
              "      <td>30</td>\n",
              "      <td>10</td>\n",
              "      <td>4</td>\n",
              "      <td>17</td>\n",
              "      <td>2</td>\n",
              "      <td>21</td>\n",
              "      <td>15</td>\n",
              "      <td>0</td>\n",
              "      <td>30</td>\n",
              "      <td>15</td>\n",
              "    </tr>\n",
              "    <tr>\n",
              "      <th>4</th>\n",
              "      <td>Breakfast</td>\n",
              "      <td>Sausage McMuffin with Egg Whites</td>\n",
              "      <td>5.7 oz (161 g)</td>\n",
              "      <td>400</td>\n",
              "      <td>210</td>\n",
              "      <td>23.0</td>\n",
              "      <td>35</td>\n",
              "      <td>8.0</td>\n",
              "      <td>42</td>\n",
              "      <td>0.0</td>\n",
              "      <td>50</td>\n",
              "      <td>16</td>\n",
              "      <td>880</td>\n",
              "      <td>37</td>\n",
              "      <td>30</td>\n",
              "      <td>10</td>\n",
              "      <td>4</td>\n",
              "      <td>17</td>\n",
              "      <td>2</td>\n",
              "      <td>21</td>\n",
              "      <td>6</td>\n",
              "      <td>0</td>\n",
              "      <td>25</td>\n",
              "      <td>10</td>\n",
              "    </tr>\n",
              "  </tbody>\n",
              "</table>\n",
              "</div>"
            ],
            "text/plain": [
              "    Category  ... Iron (% Daily Value)\n",
              "0  Breakfast  ...                   15\n",
              "1  Breakfast  ...                    8\n",
              "2  Breakfast  ...                   10\n",
              "3  Breakfast  ...                   15\n",
              "4  Breakfast  ...                   10\n",
              "\n",
              "[5 rows x 24 columns]"
            ]
          },
          "metadata": {
            "tags": []
          },
          "execution_count": 3
        }
      ]
    },
    {
      "cell_type": "code",
      "metadata": {
        "id": "mF6rqfCOqJo4",
        "outputId": "779b6006-c500-47a6-f755-9c586c2e4f24",
        "colab": {
          "base_uri": "https://localhost:8080/",
          "height": 477
        }
      },
      "source": [
        "df.describe(include=\"all\")"
      ],
      "execution_count": null,
      "outputs": [
        {
          "output_type": "execute_result",
          "data": {
            "text/html": [
              "<div>\n",
              "<style scoped>\n",
              "    .dataframe tbody tr th:only-of-type {\n",
              "        vertical-align: middle;\n",
              "    }\n",
              "\n",
              "    .dataframe tbody tr th {\n",
              "        vertical-align: top;\n",
              "    }\n",
              "\n",
              "    .dataframe thead th {\n",
              "        text-align: right;\n",
              "    }\n",
              "</style>\n",
              "<table border=\"1\" class=\"dataframe\">\n",
              "  <thead>\n",
              "    <tr style=\"text-align: right;\">\n",
              "      <th></th>\n",
              "      <th>Category</th>\n",
              "      <th>Item</th>\n",
              "      <th>Serving Size</th>\n",
              "      <th>Calories</th>\n",
              "      <th>Calories from Fat</th>\n",
              "      <th>Total Fat</th>\n",
              "      <th>Total Fat (% Daily Value)</th>\n",
              "      <th>Saturated Fat</th>\n",
              "      <th>Saturated Fat (% Daily Value)</th>\n",
              "      <th>Trans Fat</th>\n",
              "      <th>Cholesterol</th>\n",
              "      <th>Cholesterol (% Daily Value)</th>\n",
              "      <th>Sodium</th>\n",
              "      <th>Sodium (% Daily Value)</th>\n",
              "      <th>Carbohydrates</th>\n",
              "      <th>Carbohydrates (% Daily Value)</th>\n",
              "      <th>Dietary Fiber</th>\n",
              "      <th>Dietary Fiber (% Daily Value)</th>\n",
              "      <th>Sugars</th>\n",
              "      <th>Protein</th>\n",
              "      <th>Vitamin A (% Daily Value)</th>\n",
              "      <th>Vitamin C (% Daily Value)</th>\n",
              "      <th>Calcium (% Daily Value)</th>\n",
              "      <th>Iron (% Daily Value)</th>\n",
              "    </tr>\n",
              "  </thead>\n",
              "  <tbody>\n",
              "    <tr>\n",
              "      <th>count</th>\n",
              "      <td>260</td>\n",
              "      <td>260</td>\n",
              "      <td>260</td>\n",
              "      <td>260.000000</td>\n",
              "      <td>260.000000</td>\n",
              "      <td>260.000000</td>\n",
              "      <td>260.000000</td>\n",
              "      <td>260.000000</td>\n",
              "      <td>260.000000</td>\n",
              "      <td>260.000000</td>\n",
              "      <td>260.000000</td>\n",
              "      <td>260.000000</td>\n",
              "      <td>260.000000</td>\n",
              "      <td>260.000000</td>\n",
              "      <td>260.000000</td>\n",
              "      <td>260.000000</td>\n",
              "      <td>260.000000</td>\n",
              "      <td>260.000000</td>\n",
              "      <td>260.000000</td>\n",
              "      <td>260.000000</td>\n",
              "      <td>260.000000</td>\n",
              "      <td>260.000000</td>\n",
              "      <td>260.000000</td>\n",
              "      <td>260.000000</td>\n",
              "    </tr>\n",
              "    <tr>\n",
              "      <th>unique</th>\n",
              "      <td>9</td>\n",
              "      <td>260</td>\n",
              "      <td>107</td>\n",
              "      <td>NaN</td>\n",
              "      <td>NaN</td>\n",
              "      <td>NaN</td>\n",
              "      <td>NaN</td>\n",
              "      <td>NaN</td>\n",
              "      <td>NaN</td>\n",
              "      <td>NaN</td>\n",
              "      <td>NaN</td>\n",
              "      <td>NaN</td>\n",
              "      <td>NaN</td>\n",
              "      <td>NaN</td>\n",
              "      <td>NaN</td>\n",
              "      <td>NaN</td>\n",
              "      <td>NaN</td>\n",
              "      <td>NaN</td>\n",
              "      <td>NaN</td>\n",
              "      <td>NaN</td>\n",
              "      <td>NaN</td>\n",
              "      <td>NaN</td>\n",
              "      <td>NaN</td>\n",
              "      <td>NaN</td>\n",
              "    </tr>\n",
              "    <tr>\n",
              "      <th>top</th>\n",
              "      <td>Coffee &amp; Tea</td>\n",
              "      <td>Small French Fries</td>\n",
              "      <td>16 fl oz cup</td>\n",
              "      <td>NaN</td>\n",
              "      <td>NaN</td>\n",
              "      <td>NaN</td>\n",
              "      <td>NaN</td>\n",
              "      <td>NaN</td>\n",
              "      <td>NaN</td>\n",
              "      <td>NaN</td>\n",
              "      <td>NaN</td>\n",
              "      <td>NaN</td>\n",
              "      <td>NaN</td>\n",
              "      <td>NaN</td>\n",
              "      <td>NaN</td>\n",
              "      <td>NaN</td>\n",
              "      <td>NaN</td>\n",
              "      <td>NaN</td>\n",
              "      <td>NaN</td>\n",
              "      <td>NaN</td>\n",
              "      <td>NaN</td>\n",
              "      <td>NaN</td>\n",
              "      <td>NaN</td>\n",
              "      <td>NaN</td>\n",
              "    </tr>\n",
              "    <tr>\n",
              "      <th>freq</th>\n",
              "      <td>95</td>\n",
              "      <td>1</td>\n",
              "      <td>45</td>\n",
              "      <td>NaN</td>\n",
              "      <td>NaN</td>\n",
              "      <td>NaN</td>\n",
              "      <td>NaN</td>\n",
              "      <td>NaN</td>\n",
              "      <td>NaN</td>\n",
              "      <td>NaN</td>\n",
              "      <td>NaN</td>\n",
              "      <td>NaN</td>\n",
              "      <td>NaN</td>\n",
              "      <td>NaN</td>\n",
              "      <td>NaN</td>\n",
              "      <td>NaN</td>\n",
              "      <td>NaN</td>\n",
              "      <td>NaN</td>\n",
              "      <td>NaN</td>\n",
              "      <td>NaN</td>\n",
              "      <td>NaN</td>\n",
              "      <td>NaN</td>\n",
              "      <td>NaN</td>\n",
              "      <td>NaN</td>\n",
              "    </tr>\n",
              "    <tr>\n",
              "      <th>mean</th>\n",
              "      <td>NaN</td>\n",
              "      <td>NaN</td>\n",
              "      <td>NaN</td>\n",
              "      <td>368.269231</td>\n",
              "      <td>127.096154</td>\n",
              "      <td>14.165385</td>\n",
              "      <td>21.815385</td>\n",
              "      <td>6.007692</td>\n",
              "      <td>29.965385</td>\n",
              "      <td>0.203846</td>\n",
              "      <td>54.942308</td>\n",
              "      <td>18.392308</td>\n",
              "      <td>495.750000</td>\n",
              "      <td>20.676923</td>\n",
              "      <td>47.346154</td>\n",
              "      <td>15.780769</td>\n",
              "      <td>1.630769</td>\n",
              "      <td>6.530769</td>\n",
              "      <td>29.423077</td>\n",
              "      <td>13.338462</td>\n",
              "      <td>13.426923</td>\n",
              "      <td>8.534615</td>\n",
              "      <td>20.973077</td>\n",
              "      <td>7.734615</td>\n",
              "    </tr>\n",
              "    <tr>\n",
              "      <th>std</th>\n",
              "      <td>NaN</td>\n",
              "      <td>NaN</td>\n",
              "      <td>NaN</td>\n",
              "      <td>240.269886</td>\n",
              "      <td>127.875914</td>\n",
              "      <td>14.205998</td>\n",
              "      <td>21.885199</td>\n",
              "      <td>5.321873</td>\n",
              "      <td>26.639209</td>\n",
              "      <td>0.429133</td>\n",
              "      <td>87.269257</td>\n",
              "      <td>29.091653</td>\n",
              "      <td>577.026323</td>\n",
              "      <td>24.034954</td>\n",
              "      <td>28.252232</td>\n",
              "      <td>9.419544</td>\n",
              "      <td>1.567717</td>\n",
              "      <td>6.307057</td>\n",
              "      <td>28.679797</td>\n",
              "      <td>11.426146</td>\n",
              "      <td>24.366381</td>\n",
              "      <td>26.345542</td>\n",
              "      <td>17.019953</td>\n",
              "      <td>8.723263</td>\n",
              "    </tr>\n",
              "    <tr>\n",
              "      <th>min</th>\n",
              "      <td>NaN</td>\n",
              "      <td>NaN</td>\n",
              "      <td>NaN</td>\n",
              "      <td>0.000000</td>\n",
              "      <td>0.000000</td>\n",
              "      <td>0.000000</td>\n",
              "      <td>0.000000</td>\n",
              "      <td>0.000000</td>\n",
              "      <td>0.000000</td>\n",
              "      <td>0.000000</td>\n",
              "      <td>0.000000</td>\n",
              "      <td>0.000000</td>\n",
              "      <td>0.000000</td>\n",
              "      <td>0.000000</td>\n",
              "      <td>0.000000</td>\n",
              "      <td>0.000000</td>\n",
              "      <td>0.000000</td>\n",
              "      <td>0.000000</td>\n",
              "      <td>0.000000</td>\n",
              "      <td>0.000000</td>\n",
              "      <td>0.000000</td>\n",
              "      <td>0.000000</td>\n",
              "      <td>0.000000</td>\n",
              "      <td>0.000000</td>\n",
              "    </tr>\n",
              "    <tr>\n",
              "      <th>25%</th>\n",
              "      <td>NaN</td>\n",
              "      <td>NaN</td>\n",
              "      <td>NaN</td>\n",
              "      <td>210.000000</td>\n",
              "      <td>20.000000</td>\n",
              "      <td>2.375000</td>\n",
              "      <td>3.750000</td>\n",
              "      <td>1.000000</td>\n",
              "      <td>4.750000</td>\n",
              "      <td>0.000000</td>\n",
              "      <td>5.000000</td>\n",
              "      <td>2.000000</td>\n",
              "      <td>107.500000</td>\n",
              "      <td>4.750000</td>\n",
              "      <td>30.000000</td>\n",
              "      <td>10.000000</td>\n",
              "      <td>0.000000</td>\n",
              "      <td>0.000000</td>\n",
              "      <td>5.750000</td>\n",
              "      <td>4.000000</td>\n",
              "      <td>2.000000</td>\n",
              "      <td>0.000000</td>\n",
              "      <td>6.000000</td>\n",
              "      <td>0.000000</td>\n",
              "    </tr>\n",
              "    <tr>\n",
              "      <th>50%</th>\n",
              "      <td>NaN</td>\n",
              "      <td>NaN</td>\n",
              "      <td>NaN</td>\n",
              "      <td>340.000000</td>\n",
              "      <td>100.000000</td>\n",
              "      <td>11.000000</td>\n",
              "      <td>17.000000</td>\n",
              "      <td>5.000000</td>\n",
              "      <td>24.000000</td>\n",
              "      <td>0.000000</td>\n",
              "      <td>35.000000</td>\n",
              "      <td>11.000000</td>\n",
              "      <td>190.000000</td>\n",
              "      <td>8.000000</td>\n",
              "      <td>44.000000</td>\n",
              "      <td>15.000000</td>\n",
              "      <td>1.000000</td>\n",
              "      <td>5.000000</td>\n",
              "      <td>17.500000</td>\n",
              "      <td>12.000000</td>\n",
              "      <td>8.000000</td>\n",
              "      <td>0.000000</td>\n",
              "      <td>20.000000</td>\n",
              "      <td>4.000000</td>\n",
              "    </tr>\n",
              "    <tr>\n",
              "      <th>75%</th>\n",
              "      <td>NaN</td>\n",
              "      <td>NaN</td>\n",
              "      <td>NaN</td>\n",
              "      <td>500.000000</td>\n",
              "      <td>200.000000</td>\n",
              "      <td>22.250000</td>\n",
              "      <td>35.000000</td>\n",
              "      <td>10.000000</td>\n",
              "      <td>48.000000</td>\n",
              "      <td>0.000000</td>\n",
              "      <td>65.000000</td>\n",
              "      <td>21.250000</td>\n",
              "      <td>865.000000</td>\n",
              "      <td>36.250000</td>\n",
              "      <td>60.000000</td>\n",
              "      <td>20.000000</td>\n",
              "      <td>3.000000</td>\n",
              "      <td>10.000000</td>\n",
              "      <td>48.000000</td>\n",
              "      <td>19.000000</td>\n",
              "      <td>15.000000</td>\n",
              "      <td>4.000000</td>\n",
              "      <td>30.000000</td>\n",
              "      <td>15.000000</td>\n",
              "    </tr>\n",
              "    <tr>\n",
              "      <th>max</th>\n",
              "      <td>NaN</td>\n",
              "      <td>NaN</td>\n",
              "      <td>NaN</td>\n",
              "      <td>1880.000000</td>\n",
              "      <td>1060.000000</td>\n",
              "      <td>118.000000</td>\n",
              "      <td>182.000000</td>\n",
              "      <td>20.000000</td>\n",
              "      <td>102.000000</td>\n",
              "      <td>2.500000</td>\n",
              "      <td>575.000000</td>\n",
              "      <td>192.000000</td>\n",
              "      <td>3600.000000</td>\n",
              "      <td>150.000000</td>\n",
              "      <td>141.000000</td>\n",
              "      <td>47.000000</td>\n",
              "      <td>7.000000</td>\n",
              "      <td>28.000000</td>\n",
              "      <td>128.000000</td>\n",
              "      <td>87.000000</td>\n",
              "      <td>170.000000</td>\n",
              "      <td>240.000000</td>\n",
              "      <td>70.000000</td>\n",
              "      <td>40.000000</td>\n",
              "    </tr>\n",
              "  </tbody>\n",
              "</table>\n",
              "</div>"
            ],
            "text/plain": [
              "            Category  ... Iron (% Daily Value)\n",
              "count            260  ...           260.000000\n",
              "unique             9  ...                  NaN\n",
              "top     Coffee & Tea  ...                  NaN\n",
              "freq              95  ...                  NaN\n",
              "mean             NaN  ...             7.734615\n",
              "std              NaN  ...             8.723263\n",
              "min              NaN  ...             0.000000\n",
              "25%              NaN  ...             0.000000\n",
              "50%              NaN  ...             4.000000\n",
              "75%              NaN  ...            15.000000\n",
              "max              NaN  ...            40.000000\n",
              "\n",
              "[11 rows x 24 columns]"
            ]
          },
          "metadata": {
            "tags": []
          },
          "execution_count": 4
        }
      ]
    },
    {
      "cell_type": "code",
      "metadata": {
        "id": "WLOXTffSjTB3",
        "outputId": "dc2b578b-0a85-4189-866e-d73e4b27f191",
        "colab": {
          "base_uri": "https://localhost:8080/",
          "height": 538
        }
      },
      "source": [
        "df.info()"
      ],
      "execution_count": null,
      "outputs": [
        {
          "output_type": "stream",
          "text": [
            "<class 'pandas.core.frame.DataFrame'>\n",
            "RangeIndex: 260 entries, 0 to 259\n",
            "Data columns (total 24 columns):\n",
            " #   Column                         Non-Null Count  Dtype  \n",
            "---  ------                         --------------  -----  \n",
            " 0   Category                       260 non-null    object \n",
            " 1   Item                           260 non-null    object \n",
            " 2   Serving Size                   260 non-null    object \n",
            " 3   Calories                       260 non-null    int64  \n",
            " 4   Calories from Fat              260 non-null    int64  \n",
            " 5   Total Fat                      260 non-null    float64\n",
            " 6   Total Fat (% Daily Value)      260 non-null    int64  \n",
            " 7   Saturated Fat                  260 non-null    float64\n",
            " 8   Saturated Fat (% Daily Value)  260 non-null    int64  \n",
            " 9   Trans Fat                      260 non-null    float64\n",
            " 10  Cholesterol                    260 non-null    int64  \n",
            " 11  Cholesterol (% Daily Value)    260 non-null    int64  \n",
            " 12  Sodium                         260 non-null    int64  \n",
            " 13  Sodium (% Daily Value)         260 non-null    int64  \n",
            " 14  Carbohydrates                  260 non-null    int64  \n",
            " 15  Carbohydrates (% Daily Value)  260 non-null    int64  \n",
            " 16  Dietary Fiber                  260 non-null    int64  \n",
            " 17  Dietary Fiber (% Daily Value)  260 non-null    int64  \n",
            " 18  Sugars                         260 non-null    int64  \n",
            " 19  Protein                        260 non-null    int64  \n",
            " 20  Vitamin A (% Daily Value)      260 non-null    int64  \n",
            " 21  Vitamin C (% Daily Value)      260 non-null    int64  \n",
            " 22  Calcium (% Daily Value)        260 non-null    int64  \n",
            " 23  Iron (% Daily Value)           260 non-null    int64  \n",
            "dtypes: float64(3), int64(18), object(3)\n",
            "memory usage: 48.9+ KB\n"
          ],
          "name": "stdout"
        }
      ]
    },
    {
      "cell_type": "code",
      "metadata": {
        "id": "y9uyT_z9QLRE",
        "outputId": "77cffbb7-3c01-4cec-89a2-512a70d3d86b",
        "colab": {
          "base_uri": "https://localhost:8080/",
          "height": 437
        }
      },
      "source": [
        "# Missing values\n",
        "df.isnull().sum()"
      ],
      "execution_count": null,
      "outputs": [
        {
          "output_type": "execute_result",
          "data": {
            "text/plain": [
              "Category                         0\n",
              "Item                             0\n",
              "Serving Size                     0\n",
              "Calories                         0\n",
              "Calories from Fat                0\n",
              "Total Fat                        0\n",
              "Total Fat (% Daily Value)        0\n",
              "Saturated Fat                    0\n",
              "Saturated Fat (% Daily Value)    0\n",
              "Trans Fat                        0\n",
              "Cholesterol                      0\n",
              "Cholesterol (% Daily Value)      0\n",
              "Sodium                           0\n",
              "Sodium (% Daily Value)           0\n",
              "Carbohydrates                    0\n",
              "Carbohydrates (% Daily Value)    0\n",
              "Dietary Fiber                    0\n",
              "Dietary Fiber (% Daily Value)    0\n",
              "Sugars                           0\n",
              "Protein                          0\n",
              "Vitamin A (% Daily Value)        0\n",
              "Vitamin C (% Daily Value)        0\n",
              "Calcium (% Daily Value)          0\n",
              "Iron (% Daily Value)             0\n",
              "dtype: int64"
            ]
          },
          "metadata": {
            "tags": []
          },
          "execution_count": 6
        }
      ]
    },
    {
      "cell_type": "markdown",
      "metadata": {
        "id": "iYnnTu928l1p"
      },
      "source": [
        "## **a. How many calories does the average McDonald's value meal contain ?**"
      ]
    },
    {
      "cell_type": "code",
      "metadata": {
        "id": "zt8xSap8E_LN",
        "outputId": "242e3e8d-37d0-47d7-a464-8fd851c0e386",
        "colab": {
          "base_uri": "https://localhost:8080/",
          "height": 134
        }
      },
      "source": [
        "a=df.iloc[0:103,:].groupby(\"Category\").Calories.mean().round(2)\n",
        "a"
      ],
      "execution_count": null,
      "outputs": [
        {
          "output_type": "execute_result",
          "data": {
            "text/plain": [
              "Category\n",
              "Beef & Pork       494.00\n",
              "Breakfast         526.67\n",
              "Chicken & Fish    552.96\n",
              "Salads            270.00\n",
              "Snacks & Sides    245.77\n",
              "Name: Calories, dtype: float64"
            ]
          },
          "metadata": {
            "tags": []
          },
          "execution_count": 7
        }
      ]
    },
    {
      "cell_type": "code",
      "metadata": {
        "id": "QOybR0o7LIe_",
        "outputId": "5675e5d7-4b22-400e-e785-da7ea3cb9475",
        "colab": {
          "base_uri": "https://localhost:8080/",
          "height": 499
        }
      },
      "source": [
        "# Define dataframes for each category\n",
        "brkf = df.loc[df.Category == 'Breakfast']\n",
        "bnp = df.loc[df.Category == 'Beef & Pork']\n",
        "cnf = df.loc[df.Category == 'Chicken & Fish']\n",
        "sld = df.loc[df.Category == 'Salads']\n",
        "snass = df.loc[df.Category == 'Snacks & Sides']\n",
        "\n",
        "# Average calories on each categories\n",
        "avg_cat = [round(brkf['Calories'].mean(), 2), round(bnp['Calories'].mean(), 2), round(cnf['Calories'].mean(), 2),\n",
        "          round(sld['Calories'].mean(), 2), round(snass['Calories'].mean(), 2)]\n",
        "index = ['Breakfast', 'Beef & Pork', 'Chicken & Fish', 'Salads', 'Snacks & Sides']\n",
        "avg_calat= pd.DataFrame({'Avg Calories': avg_cat}, index=index)\n",
        "ax = avg_calat.plot.bar(rot=0, color='mediumvioletred', figsize=(13,8), \n",
        "                       title='Average Calories in Each Menu Category (in Cal)', legend=True)\n",
        "for p in ax.patches:\n",
        "    ax.annotate(str(p.get_height()), (p.get_x() * 1.005, p.get_height() * 1.005))"
      ],
      "execution_count": null,
      "outputs": [
        {
          "output_type": "display_data",
          "data": {
            "image/png": "[encoded data removed]",
            "text/plain": [
              "<Figure size 936x576 with 1 Axes>"
            ]
          },
          "metadata": {
            "tags": [],
            "needs_background": "light"
          }
        }
      ]
    },
    {
      "cell_type": "markdown",
      "metadata": {
        "id": "Wa8Mt4pv816P"
      },
      "source": [
        "## **b. How much do beverages, like soda or coffee, contribute to the overall caloric intake?**"
      ]
    },
    {
      "cell_type": "code",
      "metadata": {
        "id": "nxStDPY_qzIS",
        "outputId": "bb45e744-88f5-4cbb-a066-bf61bd8f20f3",
        "colab": {
          "base_uri": "https://localhost:8080/",
          "height": 195
        }
      },
      "source": [
        "# Define Dataframes for Soda\n",
        "soda = df.iloc[111:130]\n",
        "\n",
        "# Generally, the recommended daily calorie intake is 2,000 calories a day for women and 2,500 for men\n",
        "# Get caloric intake contribution from Soda\n",
        "cal_soda = pd.DataFrame({'Item': soda.Item, 'Calories': soda.Calories})\n",
        "cal_soda['Men'] = cal_soda.Calories/2500\n",
        "cal_soda['Women'] = cal_soda.Calories/2000\n",
        "cal_soda.head()"
      ],
      "execution_count": null,
      "outputs": [
        {
          "output_type": "execute_result",
          "data": {
            "text/html": [
              "<div>\n",
              "<style scoped>\n",
              "    .dataframe tbody tr th:only-of-type {\n",
              "        vertical-align: middle;\n",
              "    }\n",
              "\n",
              "    .dataframe tbody tr th {\n",
              "        vertical-align: top;\n",
              "    }\n",
              "\n",
              "    .dataframe thead th {\n",
              "        text-align: right;\n",
              "    }\n",
              "</style>\n",
              "<table border=\"1\" class=\"dataframe\">\n",
              "  <thead>\n",
              "    <tr style=\"text-align: right;\">\n",
              "      <th></th>\n",
              "      <th>Item</th>\n",
              "      <th>Calories</th>\n",
              "      <th>Men</th>\n",
              "      <th>Women</th>\n",
              "    </tr>\n",
              "  </thead>\n",
              "  <tbody>\n",
              "    <tr>\n",
              "      <th>111</th>\n",
              "      <td>Coca-Cola Classic (Medium)</td>\n",
              "      <td>200</td>\n",
              "      <td>0.080</td>\n",
              "      <td>0.10</td>\n",
              "    </tr>\n",
              "    <tr>\n",
              "      <th>112</th>\n",
              "      <td>Coca-Cola Classic (Large)</td>\n",
              "      <td>280</td>\n",
              "      <td>0.112</td>\n",
              "      <td>0.14</td>\n",
              "    </tr>\n",
              "    <tr>\n",
              "      <th>113</th>\n",
              "      <td>Coca-Cola Classic (Child)</td>\n",
              "      <td>100</td>\n",
              "      <td>0.040</td>\n",
              "      <td>0.05</td>\n",
              "    </tr>\n",
              "    <tr>\n",
              "      <th>114</th>\n",
              "      <td>Diet Coke (Small)</td>\n",
              "      <td>0</td>\n",
              "      <td>0.000</td>\n",
              "      <td>0.00</td>\n",
              "    </tr>\n",
              "    <tr>\n",
              "      <th>115</th>\n",
              "      <td>Diet Coke (Medium)</td>\n",
              "      <td>0</td>\n",
              "      <td>0.000</td>\n",
              "      <td>0.00</td>\n",
              "    </tr>\n",
              "  </tbody>\n",
              "</table>\n",
              "</div>"
            ],
            "text/plain": [
              "                           Item  Calories    Men  Women\n",
              "111  Coca-Cola Classic (Medium)       200  0.080   0.10\n",
              "112   Coca-Cola Classic (Large)       280  0.112   0.14\n",
              "113   Coca-Cola Classic (Child)       100  0.040   0.05\n",
              "114           Diet Coke (Small)         0  0.000   0.00\n",
              "115          Diet Coke (Medium)         0  0.000   0.00"
            ]
          },
          "metadata": {
            "tags": []
          },
          "execution_count": 9
        }
      ]
    },
    {
      "cell_type": "code",
      "metadata": {
        "id": "b2Y6uCYzsqoB",
        "outputId": "10312cc1-fb8d-40fb-bd6d-f6e80e113369",
        "colab": {
          "base_uri": "https://localhost:8080/",
          "height": 67
        }
      },
      "source": [
        "# Average Calories in Soda\n",
        "avg_soda = soda['Calories'].mean()\n",
        "print(\"Average calories of Soda is\", round(avg_soda, 2))\n",
        "\n",
        "avg_soda = pd.to_numeric(avg_soda) \n",
        "soda_men = avg_soda/2500\n",
        "print(\"Averagely Soda contributes to men's calories intake for \", round(soda_men,2))\n",
        "\n",
        "soda_women = avg_soda/2000\n",
        "print(\"Averagely Soda contributes to women's calories intake for \", round(soda_women, 2))"
      ],
      "execution_count": null,
      "outputs": [
        {
          "output_type": "stream",
          "text": [
            "Average calories of Soda is 105.26\n",
            "Averagely Soda contributes to men's calories intake for  0.04\n",
            "Averagely Soda contributes to women's calories intake for  0.05\n"
          ],
          "name": "stdout"
        }
      ]
    },
    {
      "cell_type": "markdown",
      "metadata": {
        "id": "VZFgdJLS8-nl"
      },
      "source": [
        "##**c. Does ordered grilled chicken instead of crispy increase a sandwich's nutritional value?**"
      ]
    },
    {
      "cell_type": "code",
      "metadata": {
        "id": "2_Qn17NsvioV",
        "outputId": "f23dd852-b49f-4f04-825e-04134f33c26f",
        "colab": {
          "base_uri": "https://localhost:8080/",
          "height": 50
        }
      },
      "source": [
        "# Compare the average amount of Calories on both categories\n",
        "# Get the average of Calories on Crispy Chicken category\n",
        "crispy = df[df['Item'].str.contains('Crispy Chicken')]\n",
        "avg_crispy_cal = crispy.Calories.mean()\n",
        "print(\"Average calories on Crispy Chicken Category is \", avg_crispy_cal, \"Cal.\")\n",
        "\n",
        "# Get the average of Calories on Grilled Chicken category\n",
        "grilled = df[df['Item'].str.contains('Grilled Chicken')]\n",
        "avg_grilled_cal = round(grilled.Calories.mean(), 2)\n",
        "print(\"Average calories on Grilled Chicken Category is \", avg_grilled_cal, \"Cal.\")"
      ],
      "execution_count": null,
      "outputs": [
        {
          "output_type": "stream",
          "text": [
            "Average calories on Crispy Chicken Category is  520.0 Cal.\n",
            "Average calories on Grilled Chicken Category is  386.92 Cal.\n"
          ],
          "name": "stdout"
        }
      ]
    },
    {
      "cell_type": "code",
      "metadata": {
        "id": "qVTnJ9qS93tj",
        "outputId": "d6b6c09c-1bda-4774-9cc3-6d775db806a1",
        "colab": {
          "base_uri": "https://localhost:8080/",
          "height": 298
        }
      },
      "source": [
        "# Get visual comparison of Crispy vs Grilled on calories\n",
        "plt.barh(['Avg Calories on Crispy Chicken items', 'Avg Calories on Grilled Chicken items'], \n",
        "         [avg_crispy_cal, avg_grilled_cal])\n",
        "plt.title(\"Comparison of Crispy vs Grilled on calories\")"
      ],
      "execution_count": null,
      "outputs": [
        {
          "output_type": "execute_result",
          "data": {
            "text/plain": [
              "Text(0.5, 1.0, 'Comparison of Crispy vs Grilled on calories')"
            ]
          },
          "metadata": {
            "tags": []
          },
          "execution_count": 12
        },
        {
          "output_type": "display_data",
          "data": {
            "image/png": "[encoded data removed]",
            "text/plain": [
              "<Figure size 432x288 with 1 Axes>"
            ]
          },
          "metadata": {
            "tags": [],
            "needs_background": "light"
          }
        }
      ]
    },
    {
      "cell_type": "code",
      "metadata": {
        "id": "I7nByymJ_FSy",
        "outputId": "df8fe515-3f5d-470b-941e-526fb5e1fcb9",
        "colab": {
          "base_uri": "https://localhost:8080/",
          "height": 50
        }
      },
      "source": [
        "# Compare the average amount of sodium and cholesterol on both categories\n",
        "# Get the average of sodium and cholesterol amount in Crispy Chicken category\n",
        "avg_crispy_sod = round(crispy.Sodium.mean(), 2)\n",
        "avg_crispy_ch = round(crispy.Cholesterol.mean(), 2)\n",
        "print(\"The average amount of sodium in Crispy Chicken category is \", avg_crispy_sod, \n",
        "      \"mg, while the average amount of cholesterol is \", avg_crispy_ch, \"mg.\")\n",
        "\n",
        "# Get the average of sodium and cholesterol amount in Grilled Chicken category\n",
        "avg_grilled_sod = round(grilled.Sodium.mean(), 2)\n",
        "avg_grilled_ch = round(grilled.Cholesterol.mean(), 2)\n",
        "print(\"The average amount of sodium in Grilled Chicken category is \", avg_grilled_sod, \n",
        "      \"mg, while the average amount of cholesterol is \", avg_grilled_ch, \"mg.\")"
      ],
      "execution_count": null,
      "outputs": [
        {
          "output_type": "stream",
          "text": [
            "The average amount of sodium in Crispy Chicken category is  1148.57 mg, while the average amount of cholesterol is  58.21 mg.\n",
            "The average amount of sodium in Grilled Chicken category is  1019.23 mg, while the average amount of cholesterol is  75.0 mg.\n"
          ],
          "name": "stdout"
        }
      ]
    },
    {
      "cell_type": "code",
      "metadata": {
        "id": "Uvq4q5q2DBHV",
        "outputId": "69a85aa8-b571-43fa-8f97-f68473e824d0",
        "colab": {
          "base_uri": "https://localhost:8080/",
          "height": 298
        }
      },
      "source": [
        "# Get visual comparison of Crispy vs Grilled on Sodium and Cholesterol\n",
        "plt.barh(['Avg Sodium on Crispy Chicken items', 'Avg Cholesterol on Crispy Chicken items', \n",
        "          'Avg Sodium on Grilled Chicken items', 'Avg Cholesterol on Grilled Chicken items'], \n",
        "         [avg_crispy_sod, avg_crispy_ch, avg_grilled_sod, avg_grilled_ch])\n",
        "plt.title(\"Comparison of Crispy vs Grilled on Sodium and Cholesterol\")"
      ],
      "execution_count": null,
      "outputs": [
        {
          "output_type": "execute_result",
          "data": {
            "text/plain": [
              "Text(0.5, 1.0, 'Comparison of Crispy vs Grilled on Sodium and Cholesterol')"
            ]
          },
          "metadata": {
            "tags": []
          },
          "execution_count": 14
        },
        {
          "output_type": "display_data",
          "data": {
            "image/png": "[encoded data removed]",
            "text/plain": [
              "<Figure size 432x288 with 1 Axes>"
            ]
          },
          "metadata": {
            "tags": [],
            "needs_background": "light"
          }
        }
      ]
    },
    {
      "cell_type": "code",
      "metadata": {
        "id": "ujtgTnx7_T70",
        "outputId": "463604a6-53eb-4b93-a8f7-716e60cf18cc",
        "colab": {
          "base_uri": "https://localhost:8080/",
          "height": 84
        }
      },
      "source": [
        "# Compare the average amount of sugars, dietary fiber, and protein on both categories\n",
        "# Get the average of sugars and dietary fiber amount in Crispy Chicken category\n",
        "avg_crispy_sug = round(crispy.Sugars.mean(), 2)\n",
        "avg_crispy_df = round(crispy['Dietary Fiber'].mean(), 2)\n",
        "print(\"The average amount of sugars in Crispy Chicken category is \", avg_crispy_sug, \n",
        "      \"g, while the average amount of dietary fiber is \", avg_crispy_df, \"g.\")\n",
        "\n",
        "# Get the average of sugars and dietary fiber amount in Grilled Chicken category\n",
        "avg_grilled_sug = round(grilled.Sugars.mean(), 2)\n",
        "avg_grilled_df = round(grilled['Dietary Fiber'].mean(), 2)\n",
        "print(\"The average amount of sugars in Grilled Chicken category is \", avg_grilled_sug, \n",
        "      \"g, while the average amount of dietary fiber is \", avg_grilled_df, \"g.\")\n",
        "\n",
        "# Get the average of Protein in Crispy Chicken category\n",
        "crispy_fcp = pd.DataFrame({'Item': crispy.Item,\n",
        "                           'Protein': crispy['Protein']})\n",
        "avg_crispy_pro = round(crispy_fcp['Protein'].mean(), 2)\n",
        "print(\"The average amount of Protein respectively in Crispy Chicken category is \", avg_crispy_pro, \"g.\")\n",
        "\n",
        "# Get the average of Protein in Crispy Chicken category\n",
        "grilled_fcp = pd.DataFrame({'Item': grilled.Item,'Protein': grilled['Protein']})\n",
        "avg_grilled_pro = round(grilled_fcp['Protein'].mean(), 2)\n",
        "print(\"The average amount of protein respectively in Grilled Chicken category is \", avg_grilled_pro, \"g.\")"
      ],
      "execution_count": null,
      "outputs": [
        {
          "output_type": "stream",
          "text": [
            "The average amount of sugars in Crispy Chicken category is  9.07 g, while the average amount of dietary fiber is  2.93 g.\n",
            "The average amount of sugars in Grilled Chicken category is  7.62 g, while the average amount of dietary fiber is  3.0 g.\n",
            "The average amount of Protein respectively in Crispy Chicken category is  24.93 g.\n",
            "The average amount of protein respectively in Grilled Chicken category is  28.62 g.\n"
          ],
          "name": "stdout"
        }
      ]
    },
    {
      "cell_type": "code",
      "metadata": {
        "id": "Y9A1rBnuGq8G",
        "outputId": "b2f0a68c-02bb-4aa0-c861-01ac8b72bf4b",
        "colab": {
          "base_uri": "https://localhost:8080/",
          "height": 298
        }
      },
      "source": [
        "# Get visual comparison of Crispy vs Grilled on sugars, dietary fiber, and protein\n",
        "plt.barh(['Avg Sugars on Crispy Chicken items', 'Avg Dietary Fiber on Crispy Chicken items',\n",
        "          'Avg Sugars on Grilled Chicken items', 'Avg Dietary Fiber on Grilled Chicken items',\n",
        "          'Avg Protein on Crispy Chicken items','Avg Protein on Grilled Chicken items'], \n",
        "         [avg_crispy_sug, avg_crispy_df, avg_grilled_sug, avg_grilled_df,avg_crispy_pro, avg_grilled_pro])\n",
        "plt.title(\"Comparison of Crispy vs Grilled on sugars, dietary fiber, and protein\")"
      ],
      "execution_count": null,
      "outputs": [
        {
          "output_type": "execute_result",
          "data": {
            "text/plain": [
              "Text(0.5, 1.0, 'Comparison of Crispy vs Grilled on sugars, dietary fiber, and protein')"
            ]
          },
          "metadata": {
            "tags": []
          },
          "execution_count": 16
        },
        {
          "output_type": "display_data",
          "data": {
            "image/png": "[encoded data removed]",
            "text/plain": [
              "<Figure size 432x288 with 1 Axes>"
            ]
          },
          "metadata": {
            "tags": [],
            "needs_background": "light"
          }
        }
      ]
    },
    {
      "cell_type": "code",
      "metadata": {
        "id": "cHvFD2gGF2VP",
        "outputId": "74a7ce03-9080-488b-a49c-586117c552a5",
        "colab": {
          "base_uri": "https://localhost:8080/",
          "height": 70
        }
      },
      "source": [
        "# Compare the average amount of vitamins and minerals on both categories\n",
        "# Get the average of vitamins, minerals, fat and Carbohydrates in Crispy Chicken category\n",
        "crispy_vm = pd.DataFrame({'Item': crispy.Item, 'Vit A': crispy['Vitamin A (% Daily Value)'], \n",
        "                          'Vit C': crispy['Vitamin C (% Daily Value)'], 'Calcium': crispy['Calcium (% Daily Value)'],\n",
        "                          'Iron': crispy['Iron (% Daily Value)'],'Total Fat': crispy['Total Fat (% Daily Value)'], \n",
        "                          'Carbohydrates': crispy['Carbohydrates (% Daily Value)']})\n",
        "avg_crispy_vita = round(crispy_vm['Vit A'].mean(), 2)\n",
        "avg_crispy_vitc = round(crispy_vm['Vit C'].mean(), 2)\n",
        "avg_crispy_calc = round(crispy_vm['Calcium'].mean(), 2)\n",
        "avg_crispy_iron = round(crispy_vm['Iron'].mean(), 2)\n",
        "avg_crispy_fat = round(crispy_vm['Total Fat'].mean(), 2)\n",
        "avg_crispy_carb = round(crispy_vm['Carbohydrates'].mean(), 2)\n",
        "print(\"The average amount of Vit A, Vit C, Calcium, Iron, Fat  and Carbohydrates respectively in Crispy Chicken category is \", \n",
        "      avg_crispy_vita, \"%DV,\", avg_crispy_vitc, \"%DV,\", avg_crispy_calc, \"%DV, and\", avg_crispy_iron, \"%DV\",avg_crispy_fat, \"%DV, and\", avg_crispy_carb, \"%DV.\")\n",
        "\n",
        "# Get the average of vitamins and minerals in Grilled Chicken category\n",
        "grilled_vm = pd.DataFrame({'Item': grilled.Item, 'Vit A': grilled['Vitamin A (% Daily Value)'], \n",
        "                           'Vit C': grilled['Vitamin C (% Daily Value)'], 'Calcium': grilled['Calcium (% Daily Value)'],\n",
        "                           'Iron': grilled['Iron (% Daily Value)'],'Total Fat': grilled['Total Fat (% Daily Value)'], \n",
        "                           'Carbohydrates': grilled['Carbohydrates (% Daily Value)']})\n",
        "avg_grilled_vita = round(grilled_vm['Vit A'].mean(), 2)\n",
        "avg_grilled_vitc = round(grilled_vm['Vit C'].mean(), 2)\n",
        "avg_grilled_calc = round(grilled_vm['Calcium'].mean(), 2)\n",
        "avg_grilled_iron = round(grilled_vm['Iron'].mean(), 2)\n",
        "avg_grilled_fat = round(grilled_vm['Total Fat'].mean(), 2)\n",
        "avg_grilled_carb = round(grilled_vm['Carbohydrates'].mean(), 2)\n",
        "print(\"The average amount of Vit A, Vit C, Calcium, Iron, Fat  and Carbohydrates respectively in Grilled Chicken category is \", \n",
        "      avg_grilled_vita, \"%DV,\", avg_grilled_vitc, \"%DV,\", avg_grilled_calc, \"%DV, and\", \n",
        "      avg_grilled_iron, \"%DV\", avg_grilled_fat, \"%DV,and \", avg_grilled_carb, \"%DV.\")"
      ],
      "execution_count": null,
      "outputs": [
        {
          "output_type": "stream",
          "text": [
            "The average amount of Vit A, Vit C, Calcium, Iron, Fat  and Carbohydrates respectively in Crispy Chicken category is  39.0 %DV, 13.79 %DV, 16.64 %DV, and 15.93 %DV 38.5 %DV, and 16.29 %DV.\n",
            "The average amount of Vit A, Vit C, Calcium, Iron, Fat  and Carbohydrates respectively in Grilled Chicken category is  43.23 %DV, 16.46 %DV, 16.38 %DV, and 16.0 %DV 21.46 %DV,and  12.38 %DV.\n"
          ],
          "name": "stdout"
        }
      ]
    },
    {
      "cell_type": "code",
      "metadata": {
        "id": "AADRvuP3HlJF",
        "outputId": "b05dca55-1572-4388-b762-64de33f028f2",
        "colab": {
          "base_uri": "https://localhost:8080/",
          "height": 298
        }
      },
      "source": [
        "# Get visual comparison of Crispy vs Grilled on Vitamins, Minerals, Fat  and Carbohydrates\n",
        "plt.barh(['Avg Vit A on Crispy Chicken items', 'Avg Vit C Fiber on Crispy Chicken items',\n",
        "          'Avg Calcium on Crispy Chicken items', 'Avg Iron Fiber on Crispy Chicken items',\n",
        "          'Avg Vit A on Grilled Chicken items', 'Avg Vit C on Grilled Chicken items', \n",
        "          'Avg Calcium on Grilled Chicken items', 'Avg Iron on Grilled Chicken items',\n",
        "          'Avg Fat on Crispy Chicken items','Avg Carbohydrates on Crispy Chicken items',\n",
        "          'Avg Fat on Grilled Chicken items','Avg Carbohydrates on Grilled Chicken items'], \n",
        "         [avg_crispy_vita, avg_crispy_vitc, avg_crispy_calc, avg_crispy_iron, avg_grilled_vita, \n",
        "          avg_grilled_vitc, avg_grilled_calc, avg_grilled_iron, avg_crispy_fat, \n",
        "          avg_crispy_carb, avg_grilled_fat, avg_grilled_carb]) \n",
        "plt.title(\"Comparison of Crispy vs Grilled on Vitamins, Minerals, Fat  and Carbohydrates\")"
      ],
      "execution_count": null,
      "outputs": [
        {
          "output_type": "execute_result",
          "data": {
            "text/plain": [
              "Text(0.5, 1.0, 'Comparison of Crispy vs Grilled on Vitamins, Minerals, Fat  and Carbohydrates')"
            ]
          },
          "metadata": {
            "tags": []
          },
          "execution_count": 40
        },
        {
          "output_type": "display_data",
          "data": {
            "image/png": "[encoded data removed]",
            "text/plain": [
              "<Figure size 432x288 with 1 Axes>"
            ]
          },
          "metadata": {
            "tags": [],
            "needs_background": "light"
          }
        }
      ]
    },
    {
      "cell_type": "markdown",
      "metadata": {
        "id": "iCE3ykCRJdfZ"
      },
      "source": [
        "Yes, It does. Ordered Grilled Chicken instead of Crispy Chicken, increase a sandwich's nutritional value\n",
        "\n",
        "Grilled Chicken Category has more nutritional values in terms of the average amount of Cholesterol, Dietary Fiber, Vitamin A & C, Iron, and Protein than menu items in Crispy Chicken Category"
      ]
    },
    {
      "cell_type": "markdown",
      "metadata": {
        "id": "A7bhdGvIKUYI"
      },
      "source": [
        "##**d. What about ordering egg whites instead of whole eggs?**"
      ]
    },
    {
      "cell_type": "code",
      "metadata": {
        "id": "XrbP0TzBGHzC",
        "outputId": "2efd917e-d84b-45ff-86ac-93090bf8d5c2",
        "colab": {
          "base_uri": "https://localhost:8080/",
          "height": 50
        }
      },
      "source": [
        "# Compare the average amount of calories on both categories\n",
        "# Average calories on Egg Whites Category\n",
        "whites = df[df['Item'].str.contains('Egg White')]\n",
        "avg_whites_cal = whites.Calories.mean()\n",
        "print(\"Average calories on Egg Whites category is \", round(avg_whites_cal, 2), \"Cal.\")\n",
        "\n",
        "# Average calories on Whole Egg Category\n",
        "whole = df[df['Item'].str.contains('Egg')] \n",
        "avg_whole_cal = whole.Calories.mean()\n",
        "print(\"Average calories on Whole Egg category is \", round(avg_whole_cal, 2), \"Cal.\")"
      ],
      "execution_count": null,
      "outputs": [
        {
          "output_type": "stream",
          "text": [
            "Average calories on Egg Whites category is  565.38 Cal.\n",
            "Average calories on Whole Egg category is  537.2 Cal.\n"
          ],
          "name": "stdout"
        }
      ]
    },
    {
      "cell_type": "code",
      "metadata": {
        "id": "xqaGZG9IMJng",
        "outputId": "a4321f19-0063-46cb-ea20-5c6a540973de",
        "colab": {
          "base_uri": "https://localhost:8080/",
          "height": 542
        }
      },
      "source": [
        "# Get visual comparison of Egg Whites and Whole Egg on calories\n",
        "figsize=(10,5)\n",
        "labels = ['Egg Whites Calories','Whole Egg Calories']\n",
        "values = [avg_whites_cal, avg_whole_cal]\n",
        "\n",
        "fig1 = go.Figure(data=[go.Pie(labels=labels, values=values)])\n",
        "fig1.update_layout(title_text=\"Comparison of Egg Whites and Whole Egg on calories\")\n",
        "fig1.show()"
      ],
      "execution_count": null,
      "outputs": [
        {
          "output_type": "display_data",
          "data": {
            "text/html": [
              "<html>\n",
              "<head><meta charset=\"utf-8\" /></head>\n",
              "<body>\n",
              "    <div>\n",
              "            <script src=\"https://cdnjs.cloudflare.com/ajax/libs/mathjax/2.7.5/MathJax.js?config=TeX-AMS-MML_SVG\"></script><script type=\"text/javascript\">if (window.MathJax) {MathJax.Hub.Config({SVG: {font: \"STIX-Web\"}});}</script>\n",
              "                <script type=\"text/javascript\">window.PlotlyConfig = {MathJaxConfig: 'local'};</script>\n",
              "        <script src=\"https://cdn.plot.ly/plotly-latest.min.js\"></script>    \n",
              "            <div id=\"b533469c-797e-4da3-856c-b41f0b20ca15\" class=\"plotly-graph-div\" style=\"height:525px; width:100%;\"></div>\n",
              "            <script type=\"text/javascript\">\n",
              "                \n",
              "                    window.PLOTLYENV=window.PLOTLYENV || {};\n",
              "                    \n",
              "                if (document.getElementById(\"b533469c-797e-4da3-856c-b41f0b20ca15\")) {\n",
              "                    Plotly.newPlot(\n",
              "                        'b533469c-797e-4da3-856c-b41f0b20ca15',\n",
              "                        [{\"labels\": [\"Egg Whites Calories\", \"Whole Egg Calories\"], \"type\": \"pie\", \"values\": [565.3846153846154, 537.2]}],\n",
              "                        {\"template\": {\"data\": {\"bar\": [{\"error_x\": {\"color\": \"#2a3f5f\"}, \"error_y\": {\"color\": \"#2a3f5f\"}, \"marker\": {\"line\": {\"color\": \"#E5ECF6\", \"width\": 0.5}}, \"type\": \"bar\"}], \"barpolar\": [{\"marker\": {\"line\": {\"color\": \"#E5ECF6\", \"width\": 0.5}}, \"type\": \"barpolar\"}], \"carpet\": [{\"aaxis\": {\"endlinecolor\": \"#2a3f5f\", \"gridcolor\": \"white\", \"linecolor\": \"white\", \"minorgridcolor\": \"white\", \"startlinecolor\": \"#2a3f5f\"}, \"baxis\": {\"endlinecolor\": \"#2a3f5f\", \"gridcolor\": \"white\", \"linecolor\": \"white\", \"minorgridcolor\": \"white\", \"startlinecolor\": \"#2a3f5f\"}, \"type\": \"carpet\"}], \"choropleth\": [{\"colorbar\": {\"outlinewidth\": 0, \"ticks\": \"\"}, \"type\": \"choropleth\"}], \"contour\": [{\"colorbar\": {\"outlinewidth\": 0, \"ticks\": \"\"}, \"colorscale\": [[0.0, \"#0d0887\"], [0.1111111111111111, \"#46039f\"], [0.2222222222222222, \"#7201a8\"], [0.3333333333333333, \"#9c179e\"], [0.4444444444444444, \"#bd3786\"], [0.5555555555555556, \"#d8576b\"], [0.6666666666666666, \"#ed7953\"], [0.7777777777777778, \"#fb9f3a\"], [0.8888888888888888, \"#fdca26\"], [1.0, \"#f0f921\"]], \"type\": \"contour\"}], \"contourcarpet\": [{\"colorbar\": {\"outlinewidth\": 0, \"ticks\": \"\"}, \"type\": \"contourcarpet\"}], \"heatmap\": [{\"colorbar\": {\"outlinewidth\": 0, \"ticks\": \"\"}, \"colorscale\": [[0.0, \"#0d0887\"], [0.1111111111111111, \"#46039f\"], [0.2222222222222222, \"#7201a8\"], [0.3333333333333333, \"#9c179e\"], [0.4444444444444444, \"#bd3786\"], [0.5555555555555556, \"#d8576b\"], [0.6666666666666666, \"#ed7953\"], [0.7777777777777778, \"#fb9f3a\"], [0.8888888888888888, \"#fdca26\"], [1.0, \"#f0f921\"]], \"type\": \"heatmap\"}], \"heatmapgl\": [{\"colorbar\": {\"outlinewidth\": 0, \"ticks\": \"\"}, \"colorscale\": [[0.0, \"#0d0887\"], [0.1111111111111111, \"#46039f\"], [0.2222222222222222, \"#7201a8\"], [0.3333333333333333, \"#9c179e\"], [0.4444444444444444, \"#bd3786\"], [0.5555555555555556, \"#d8576b\"], [0.6666666666666666, \"#ed7953\"], [0.7777777777777778, \"#fb9f3a\"], [0.8888888888888888, \"#fdca26\"], [1.0, \"#f0f921\"]], \"type\": \"heatmapgl\"}], \"histogram\": [{\"marker\": {\"colorbar\": {\"outlinewidth\": 0, \"ticks\": \"\"}}, \"type\": \"histogram\"}], \"histogram2d\": [{\"colorbar\": {\"outlinewidth\": 0, \"ticks\": \"\"}, \"colorscale\": [[0.0, \"#0d0887\"], [0.1111111111111111, \"#46039f\"], [0.2222222222222222, \"#7201a8\"], [0.3333333333333333, \"#9c179e\"], [0.4444444444444444, \"#bd3786\"], [0.5555555555555556, \"#d8576b\"], [0.6666666666666666, \"#ed7953\"], [0.7777777777777778, \"#fb9f3a\"], [0.8888888888888888, \"#fdca26\"], [1.0, \"#f0f921\"]], \"type\": \"histogram2d\"}], \"histogram2dcontour\": [{\"colorbar\": {\"outlinewidth\": 0, \"ticks\": \"\"}, \"colorscale\": [[0.0, \"#0d0887\"], [0.1111111111111111, \"#46039f\"], [0.2222222222222222, \"#7201a8\"], [0.3333333333333333, \"#9c179e\"], [0.4444444444444444, \"#bd3786\"], [0.5555555555555556, \"#d8576b\"], [0.6666666666666666, \"#ed7953\"], [0.7777777777777778, \"#fb9f3a\"], [0.8888888888888888, \"#fdca26\"], [1.0, \"#f0f921\"]], \"type\": \"histogram2dcontour\"}], \"mesh3d\": [{\"colorbar\": {\"outlinewidth\": 0, \"ticks\": \"\"}, \"type\": \"mesh3d\"}], \"parcoords\": [{\"line\": {\"colorbar\": {\"outlinewidth\": 0, \"ticks\": \"\"}}, \"type\": \"parcoords\"}], \"pie\": [{\"automargin\": true, \"type\": \"pie\"}], \"scatter\": [{\"marker\": {\"colorbar\": {\"outlinewidth\": 0, \"ticks\": \"\"}}, \"type\": \"scatter\"}], \"scatter3d\": [{\"line\": {\"colorbar\": {\"outlinewidth\": 0, \"ticks\": \"\"}}, \"marker\": {\"colorbar\": {\"outlinewidth\": 0, \"ticks\": \"\"}}, \"type\": \"scatter3d\"}], \"scattercarpet\": [{\"marker\": {\"colorbar\": {\"outlinewidth\": 0, \"ticks\": \"\"}}, \"type\": \"scattercarpet\"}], \"scattergeo\": [{\"marker\": {\"colorbar\": {\"outlinewidth\": 0, \"ticks\": \"\"}}, \"type\": \"scattergeo\"}], \"scattergl\": [{\"marker\": {\"colorbar\": {\"outlinewidth\": 0, \"ticks\": \"\"}}, \"type\": \"scattergl\"}], \"scattermapbox\": [{\"marker\": {\"colorbar\": {\"outlinewidth\": 0, \"ticks\": \"\"}}, \"type\": \"scattermapbox\"}], \"scatterpolar\": [{\"marker\": {\"colorbar\": {\"outlinewidth\": 0, \"ticks\": \"\"}}, \"type\": \"scatterpolar\"}], \"scatterpolargl\": [{\"marker\": {\"colorbar\": {\"outlinewidth\": 0, \"ticks\": \"\"}}, \"type\": \"scatterpolargl\"}], \"scatterternary\": [{\"marker\": {\"colorbar\": {\"outlinewidth\": 0, \"ticks\": \"\"}}, \"type\": \"scatterternary\"}], \"surface\": [{\"colorbar\": {\"outlinewidth\": 0, \"ticks\": \"\"}, \"colorscale\": [[0.0, \"#0d0887\"], [0.1111111111111111, \"#46039f\"], [0.2222222222222222, \"#7201a8\"], [0.3333333333333333, \"#9c179e\"], [0.4444444444444444, \"#bd3786\"], [0.5555555555555556, \"#d8576b\"], [0.6666666666666666, \"#ed7953\"], [0.7777777777777778, \"#fb9f3a\"], [0.8888888888888888, \"#fdca26\"], [1.0, \"#f0f921\"]], \"type\": \"surface\"}], \"table\": [{\"cells\": {\"fill\": {\"color\": \"#EBF0F8\"}, \"line\": {\"color\": \"white\"}}, \"header\": {\"fill\": {\"color\": \"#C8D4E3\"}, \"line\": {\"color\": \"white\"}}, \"type\": \"table\"}]}, \"layout\": {\"annotationdefaults\": {\"arrowcolor\": \"#2a3f5f\", \"arrowhead\": 0, \"arrowwidth\": 1}, \"coloraxis\": {\"colorbar\": {\"outlinewidth\": 0, \"ticks\": \"\"}}, \"colorscale\": {\"diverging\": [[0, \"#8e0152\"], [0.1, \"#c51b7d\"], [0.2, \"#de77ae\"], [0.3, \"#f1b6da\"], [0.4, \"#fde0ef\"], [0.5, \"#f7f7f7\"], [0.6, \"#e6f5d0\"], [0.7, \"#b8e186\"], [0.8, \"#7fbc41\"], [0.9, \"#4d9221\"], [1, \"#276419\"]], \"sequential\": [[0.0, \"#0d0887\"], [0.1111111111111111, \"#46039f\"], [0.2222222222222222, \"#7201a8\"], [0.3333333333333333, \"#9c179e\"], [0.4444444444444444, \"#bd3786\"], [0.5555555555555556, \"#d8576b\"], [0.6666666666666666, \"#ed7953\"], [0.7777777777777778, \"#fb9f3a\"], [0.8888888888888888, \"#fdca26\"], [1.0, \"#f0f921\"]], \"sequentialminus\": [[0.0, \"#0d0887\"], [0.1111111111111111, \"#46039f\"], [0.2222222222222222, \"#7201a8\"], [0.3333333333333333, \"#9c179e\"], [0.4444444444444444, \"#bd3786\"], [0.5555555555555556, \"#d8576b\"], [0.6666666666666666, \"#ed7953\"], [0.7777777777777778, \"#fb9f3a\"], [0.8888888888888888, \"#fdca26\"], [1.0, \"#f0f921\"]]}, \"colorway\": [\"#636efa\", \"#EF553B\", \"#00cc96\", \"#ab63fa\", \"#FFA15A\", \"#19d3f3\", \"#FF6692\", \"#B6E880\", \"#FF97FF\", \"#FECB52\"], \"font\": {\"color\": \"#2a3f5f\"}, \"geo\": {\"bgcolor\": \"white\", \"lakecolor\": \"white\", \"landcolor\": \"#E5ECF6\", \"showlakes\": true, \"showland\": true, \"subunitcolor\": \"white\"}, \"hoverlabel\": {\"align\": \"left\"}, \"hovermode\": \"closest\", \"mapbox\": {\"style\": \"light\"}, \"paper_bgcolor\": \"white\", \"plot_bgcolor\": \"#E5ECF6\", \"polar\": {\"angularaxis\": {\"gridcolor\": \"white\", \"linecolor\": \"white\", \"ticks\": \"\"}, \"bgcolor\": \"#E5ECF6\", \"radialaxis\": {\"gridcolor\": \"white\", \"linecolor\": \"white\", \"ticks\": \"\"}}, \"scene\": {\"xaxis\": {\"backgroundcolor\": \"#E5ECF6\", \"gridcolor\": \"white\", \"gridwidth\": 2, \"linecolor\": \"white\", \"showbackground\": true, \"ticks\": \"\", \"zerolinecolor\": \"white\"}, \"yaxis\": {\"backgroundcolor\": \"#E5ECF6\", \"gridcolor\": \"white\", \"gridwidth\": 2, \"linecolor\": \"white\", \"showbackground\": true, \"ticks\": \"\", \"zerolinecolor\": \"white\"}, \"zaxis\": {\"backgroundcolor\": \"#E5ECF6\", \"gridcolor\": \"white\", \"gridwidth\": 2, \"linecolor\": \"white\", \"showbackground\": true, \"ticks\": \"\", \"zerolinecolor\": \"white\"}}, \"shapedefaults\": {\"line\": {\"color\": \"#2a3f5f\"}}, \"ternary\": {\"aaxis\": {\"gridcolor\": \"white\", \"linecolor\": \"white\", \"ticks\": \"\"}, \"baxis\": {\"gridcolor\": \"white\", \"linecolor\": \"white\", \"ticks\": \"\"}, \"bgcolor\": \"#E5ECF6\", \"caxis\": {\"gridcolor\": \"white\", \"linecolor\": \"white\", \"ticks\": \"\"}}, \"title\": {\"x\": 0.05}, \"xaxis\": {\"automargin\": true, \"gridcolor\": \"white\", \"linecolor\": \"white\", \"ticks\": \"\", \"title\": {\"standoff\": 15}, \"zerolinecolor\": \"white\", \"zerolinewidth\": 2}, \"yaxis\": {\"automargin\": true, \"gridcolor\": \"white\", \"linecolor\": \"white\", \"ticks\": \"\", \"title\": {\"standoff\": 15}, \"zerolinecolor\": \"white\", \"zerolinewidth\": 2}}}, \"title\": {\"text\": \"Comparison of Egg Whites and Whole Egg on calories\"}},\n",
              "                        {\"responsive\": true}\n",
              "                    ).then(function(){\n",
              "                            \n",
              "var gd = document.getElementById('b533469c-797e-4da3-856c-b41f0b20ca15');\n",
              "var x = new MutationObserver(function (mutations, observer) {{\n",
              "        var display = window.getComputedStyle(gd).display;\n",
              "        if (!display || display === 'none') {{\n",
              "            console.log([gd, 'removed!']);\n",
              "            Plotly.purge(gd);\n",
              "            observer.disconnect();\n",
              "        }}\n",
              "}});\n",
              "\n",
              "// Listen for the removal of the full notebook cells\n",
              "var notebookContainer = gd.closest('#notebook-container');\n",
              "if (notebookContainer) {{\n",
              "    x.observe(notebookContainer, {childList: true});\n",
              "}}\n",
              "\n",
              "// Listen for the clearing of the current output cell\n",
              "var outputEl = gd.closest('.output');\n",
              "if (outputEl) {{\n",
              "    x.observe(outputEl, {childList: true});\n",
              "}}\n",
              "\n",
              "                        })\n",
              "                };\n",
              "                \n",
              "            </script>\n",
              "        </div>\n",
              "</body>\n",
              "</html>"
            ]
          },
          "metadata": {
            "tags": []
          }
        }
      ]
    },
    {
      "cell_type": "code",
      "metadata": {
        "id": "JXITVMg_LDvl",
        "outputId": "9dfc2a32-7bb5-4389-c9ba-f388d6d90849",
        "colab": {
          "base_uri": "https://localhost:8080/",
          "height": 50
        }
      },
      "source": [
        "# Compare the average amount of sodium and cholesterol on both categories\n",
        "# Get the average of sodium and cholesterol amount in Egg Whites category\n",
        "avg_whites_sod = round(whites.Sodium.mean(), 2)\n",
        "avg_whites_ch = round(whites.Cholesterol.mean(), 2)\n",
        "print(\"The average amount of sodium in Egg Whites category is \", avg_whites_sod, \n",
        "      \"mg, while the average amount of cholesterol is \", avg_whites_ch, \"mg.\")\n",
        "\n",
        "# Get the average of sodium and cholesterol amount in Whole Eggs category\n",
        "avg_whole_sod = round(whole.Sodium.mean(), 2)\n",
        "avg_whole_ch = round(whole.Cholesterol.mean(), 2)\n",
        "print(\"The average amount of sodium in Whole Eggs category is \", avg_whole_sod, \n",
        "      \"mg, while the average amount of cholesterol is \", avg_whole_ch, \"mg.\")"
      ],
      "execution_count": null,
      "outputs": [
        {
          "output_type": "stream",
          "text": [
            "The average amount of sodium in Egg Whites category is  1433.85 mg, while the average amount of cholesterol is  41.54 mg.\n",
            "The average amount of sodium in Whole Eggs category is  1336.0 mg, while the average amount of cholesterol is  150.0 mg.\n"
          ],
          "name": "stdout"
        }
      ]
    },
    {
      "cell_type": "code",
      "metadata": {
        "id": "EVfjoIIOLspV",
        "outputId": "c2a48fc3-4ad2-49de-bee3-213a0c56c785",
        "colab": {
          "base_uri": "https://localhost:8080/",
          "height": 542
        }
      },
      "source": [
        "# Get visual comparison of Egg Whites and Whole Egg on sodium and cholesterol\n",
        "figsize=(10,5)\n",
        "labels = ['Egg Whites Sodium','Egg Whites Cholesterol', 'Whole Egg Sodium', 'Whole Egg Cholesterol']\n",
        "values = [avg_whites_sod, avg_whites_ch, avg_whole_sod, avg_whole_ch]\n",
        "\n",
        "fig2 = go.Figure(data=[go.Pie(labels=labels, values=values)])\n",
        "fig2.update_layout(title_text=\"Comparison of Egg Whites and Whole Egg on sodium and cholesterol\")\n",
        "fig2.show()"
      ],
      "execution_count": null,
      "outputs": [
        {
          "output_type": "display_data",
          "data": {
            "text/html": [
              "<html>\n",
              "<head><meta charset=\"utf-8\" /></head>\n",
              "<body>\n",
              "    <div>\n",
              "            <script src=\"https://cdnjs.cloudflare.com/ajax/libs/mathjax/2.7.5/MathJax.js?config=TeX-AMS-MML_SVG\"></script><script type=\"text/javascript\">if (window.MathJax) {MathJax.Hub.Config({SVG: {font: \"STIX-Web\"}});}</script>\n",
              "                <script type=\"text/javascript\">window.PlotlyConfig = {MathJaxConfig: 'local'};</script>\n",
              "        <script src=\"https://cdn.plot.ly/plotly-latest.min.js\"></script>    \n",
              "            <div id=\"339b6ac5-1c38-43e7-9c58-5c22b85d61fe\" class=\"plotly-graph-div\" style=\"height:525px; width:100%;\"></div>\n",
              "            <script type=\"text/javascript\">\n",
              "                \n",
              "                    window.PLOTLYENV=window.PLOTLYENV || {};\n",
              "                    \n",
              "                if (document.getElementById(\"339b6ac5-1c38-43e7-9c58-5c22b85d61fe\")) {\n",
              "                    Plotly.newPlot(\n",
              "                        '339b6ac5-1c38-43e7-9c58-5c22b85d61fe',\n",
              "                        [{\"labels\": [\"Egg Whites Sodium\", \"Egg Whites Cholesterol\", \"Whole Egg Sodium\", \"Whole Egg Cholesterol\"], \"type\": \"pie\", \"values\": [1433.85, 41.54, 1336.0, 150.0]}],\n",
              "                        {\"template\": {\"data\": {\"bar\": [{\"error_x\": {\"color\": \"#2a3f5f\"}, \"error_y\": {\"color\": \"#2a3f5f\"}, \"marker\": {\"line\": {\"color\": \"#E5ECF6\", \"width\": 0.5}}, \"type\": \"bar\"}], \"barpolar\": [{\"marker\": {\"line\": {\"color\": \"#E5ECF6\", \"width\": 0.5}}, \"type\": \"barpolar\"}], \"carpet\": [{\"aaxis\": {\"endlinecolor\": \"#2a3f5f\", \"gridcolor\": \"white\", \"linecolor\": \"white\", \"minorgridcolor\": \"white\", \"startlinecolor\": \"#2a3f5f\"}, \"baxis\": {\"endlinecolor\": \"#2a3f5f\", \"gridcolor\": \"white\", \"linecolor\": \"white\", \"minorgridcolor\": \"white\", \"startlinecolor\": \"#2a3f5f\"}, \"type\": \"carpet\"}], \"choropleth\": [{\"colorbar\": {\"outlinewidth\": 0, \"ticks\": \"\"}, \"type\": \"choropleth\"}], \"contour\": [{\"colorbar\": {\"outlinewidth\": 0, \"ticks\": \"\"}, \"colorscale\": [[0.0, \"#0d0887\"], [0.1111111111111111, \"#46039f\"], [0.2222222222222222, \"#7201a8\"], [0.3333333333333333, \"#9c179e\"], [0.4444444444444444, \"#bd3786\"], [0.5555555555555556, \"#d8576b\"], [0.6666666666666666, \"#ed7953\"], [0.7777777777777778, \"#fb9f3a\"], [0.8888888888888888, \"#fdca26\"], [1.0, \"#f0f921\"]], \"type\": \"contour\"}], \"contourcarpet\": [{\"colorbar\": {\"outlinewidth\": 0, \"ticks\": \"\"}, \"type\": \"contourcarpet\"}], \"heatmap\": [{\"colorbar\": {\"outlinewidth\": 0, \"ticks\": \"\"}, \"colorscale\": [[0.0, \"#0d0887\"], [0.1111111111111111, \"#46039f\"], [0.2222222222222222, \"#7201a8\"], [0.3333333333333333, \"#9c179e\"], [0.4444444444444444, \"#bd3786\"], [0.5555555555555556, \"#d8576b\"], [0.6666666666666666, \"#ed7953\"], [0.7777777777777778, \"#fb9f3a\"], [0.8888888888888888, \"#fdca26\"], [1.0, \"#f0f921\"]], \"type\": \"heatmap\"}], \"heatmapgl\": [{\"colorbar\": {\"outlinewidth\": 0, \"ticks\": \"\"}, \"colorscale\": [[0.0, \"#0d0887\"], [0.1111111111111111, \"#46039f\"], [0.2222222222222222, \"#7201a8\"], [0.3333333333333333, \"#9c179e\"], [0.4444444444444444, \"#bd3786\"], [0.5555555555555556, \"#d8576b\"], [0.6666666666666666, \"#ed7953\"], [0.7777777777777778, \"#fb9f3a\"], [0.8888888888888888, \"#fdca26\"], [1.0, \"#f0f921\"]], \"type\": \"heatmapgl\"}], \"histogram\": [{\"marker\": {\"colorbar\": {\"outlinewidth\": 0, \"ticks\": \"\"}}, \"type\": \"histogram\"}], \"histogram2d\": [{\"colorbar\": {\"outlinewidth\": 0, \"ticks\": \"\"}, \"colorscale\": [[0.0, \"#0d0887\"], [0.1111111111111111, \"#46039f\"], [0.2222222222222222, \"#7201a8\"], [0.3333333333333333, \"#9c179e\"], [0.4444444444444444, \"#bd3786\"], [0.5555555555555556, \"#d8576b\"], [0.6666666666666666, \"#ed7953\"], [0.7777777777777778, \"#fb9f3a\"], [0.8888888888888888, \"#fdca26\"], [1.0, \"#f0f921\"]], \"type\": \"histogram2d\"}], \"histogram2dcontour\": [{\"colorbar\": {\"outlinewidth\": 0, \"ticks\": \"\"}, \"colorscale\": [[0.0, \"#0d0887\"], [0.1111111111111111, \"#46039f\"], [0.2222222222222222, \"#7201a8\"], [0.3333333333333333, \"#9c179e\"], [0.4444444444444444, \"#bd3786\"], [0.5555555555555556, \"#d8576b\"], [0.6666666666666666, \"#ed7953\"], [0.7777777777777778, \"#fb9f3a\"], [0.8888888888888888, \"#fdca26\"], [1.0, \"#f0f921\"]], \"type\": \"histogram2dcontour\"}], \"mesh3d\": [{\"colorbar\": {\"outlinewidth\": 0, \"ticks\": \"\"}, \"type\": \"mesh3d\"}], \"parcoords\": [{\"line\": {\"colorbar\": {\"outlinewidth\": 0, \"ticks\": \"\"}}, \"type\": \"parcoords\"}], \"pie\": [{\"automargin\": true, \"type\": \"pie\"}], \"scatter\": [{\"marker\": {\"colorbar\": {\"outlinewidth\": 0, \"ticks\": \"\"}}, \"type\": \"scatter\"}], \"scatter3d\": [{\"line\": {\"colorbar\": {\"outlinewidth\": 0, \"ticks\": \"\"}}, \"marker\": {\"colorbar\": {\"outlinewidth\": 0, \"ticks\": \"\"}}, \"type\": \"scatter3d\"}], \"scattercarpet\": [{\"marker\": {\"colorbar\": {\"outlinewidth\": 0, \"ticks\": \"\"}}, \"type\": \"scattercarpet\"}], \"scattergeo\": [{\"marker\": {\"colorbar\": {\"outlinewidth\": 0, \"ticks\": \"\"}}, \"type\": \"scattergeo\"}], \"scattergl\": [{\"marker\": {\"colorbar\": {\"outlinewidth\": 0, \"ticks\": \"\"}}, \"type\": \"scattergl\"}], \"scattermapbox\": [{\"marker\": {\"colorbar\": {\"outlinewidth\": 0, \"ticks\": \"\"}}, \"type\": \"scattermapbox\"}], \"scatterpolar\": [{\"marker\": {\"colorbar\": {\"outlinewidth\": 0, \"ticks\": \"\"}}, \"type\": \"scatterpolar\"}], \"scatterpolargl\": [{\"marker\": {\"colorbar\": {\"outlinewidth\": 0, \"ticks\": \"\"}}, \"type\": \"scatterpolargl\"}], \"scatterternary\": [{\"marker\": {\"colorbar\": {\"outlinewidth\": 0, \"ticks\": \"\"}}, \"type\": \"scatterternary\"}], \"surface\": [{\"colorbar\": {\"outlinewidth\": 0, \"ticks\": \"\"}, \"colorscale\": [[0.0, \"#0d0887\"], [0.1111111111111111, \"#46039f\"], [0.2222222222222222, \"#7201a8\"], [0.3333333333333333, \"#9c179e\"], [0.4444444444444444, \"#bd3786\"], [0.5555555555555556, \"#d8576b\"], [0.6666666666666666, \"#ed7953\"], [0.7777777777777778, \"#fb9f3a\"], [0.8888888888888888, \"#fdca26\"], [1.0, \"#f0f921\"]], \"type\": \"surface\"}], \"table\": [{\"cells\": {\"fill\": {\"color\": \"#EBF0F8\"}, \"line\": {\"color\": \"white\"}}, \"header\": {\"fill\": {\"color\": \"#C8D4E3\"}, \"line\": {\"color\": \"white\"}}, \"type\": \"table\"}]}, \"layout\": {\"annotationdefaults\": {\"arrowcolor\": \"#2a3f5f\", \"arrowhead\": 0, \"arrowwidth\": 1}, \"coloraxis\": {\"colorbar\": {\"outlinewidth\": 0, \"ticks\": \"\"}}, \"colorscale\": {\"diverging\": [[0, \"#8e0152\"], [0.1, \"#c51b7d\"], [0.2, \"#de77ae\"], [0.3, \"#f1b6da\"], [0.4, \"#fde0ef\"], [0.5, \"#f7f7f7\"], [0.6, \"#e6f5d0\"], [0.7, \"#b8e186\"], [0.8, \"#7fbc41\"], [0.9, \"#4d9221\"], [1, \"#276419\"]], \"sequential\": [[0.0, \"#0d0887\"], [0.1111111111111111, \"#46039f\"], [0.2222222222222222, \"#7201a8\"], [0.3333333333333333, \"#9c179e\"], [0.4444444444444444, \"#bd3786\"], [0.5555555555555556, \"#d8576b\"], [0.6666666666666666, \"#ed7953\"], [0.7777777777777778, \"#fb9f3a\"], [0.8888888888888888, \"#fdca26\"], [1.0, \"#f0f921\"]], \"sequentialminus\": [[0.0, \"#0d0887\"], [0.1111111111111111, \"#46039f\"], [0.2222222222222222, \"#7201a8\"], [0.3333333333333333, \"#9c179e\"], [0.4444444444444444, \"#bd3786\"], [0.5555555555555556, \"#d8576b\"], [0.6666666666666666, \"#ed7953\"], [0.7777777777777778, \"#fb9f3a\"], [0.8888888888888888, \"#fdca26\"], [1.0, \"#f0f921\"]]}, \"colorway\": [\"#636efa\", \"#EF553B\", \"#00cc96\", \"#ab63fa\", \"#FFA15A\", \"#19d3f3\", \"#FF6692\", \"#B6E880\", \"#FF97FF\", \"#FECB52\"], \"font\": {\"color\": \"#2a3f5f\"}, \"geo\": {\"bgcolor\": \"white\", \"lakecolor\": \"white\", \"landcolor\": \"#E5ECF6\", \"showlakes\": true, \"showland\": true, \"subunitcolor\": \"white\"}, \"hoverlabel\": {\"align\": \"left\"}, \"hovermode\": \"closest\", \"mapbox\": {\"style\": \"light\"}, \"paper_bgcolor\": \"white\", \"plot_bgcolor\": \"#E5ECF6\", \"polar\": {\"angularaxis\": {\"gridcolor\": \"white\", \"linecolor\": \"white\", \"ticks\": \"\"}, \"bgcolor\": \"#E5ECF6\", \"radialaxis\": {\"gridcolor\": \"white\", \"linecolor\": \"white\", \"ticks\": \"\"}}, \"scene\": {\"xaxis\": {\"backgroundcolor\": \"#E5ECF6\", \"gridcolor\": \"white\", \"gridwidth\": 2, \"linecolor\": \"white\", \"showbackground\": true, \"ticks\": \"\", \"zerolinecolor\": \"white\"}, \"yaxis\": {\"backgroundcolor\": \"#E5ECF6\", \"gridcolor\": \"white\", \"gridwidth\": 2, \"linecolor\": \"white\", \"showbackground\": true, \"ticks\": \"\", \"zerolinecolor\": \"white\"}, \"zaxis\": {\"backgroundcolor\": \"#E5ECF6\", \"gridcolor\": \"white\", \"gridwidth\": 2, \"linecolor\": \"white\", \"showbackground\": true, \"ticks\": \"\", \"zerolinecolor\": \"white\"}}, \"shapedefaults\": {\"line\": {\"color\": \"#2a3f5f\"}}, \"ternary\": {\"aaxis\": {\"gridcolor\": \"white\", \"linecolor\": \"white\", \"ticks\": \"\"}, \"baxis\": {\"gridcolor\": \"white\", \"linecolor\": \"white\", \"ticks\": \"\"}, \"bgcolor\": \"#E5ECF6\", \"caxis\": {\"gridcolor\": \"white\", \"linecolor\": \"white\", \"ticks\": \"\"}}, \"title\": {\"x\": 0.05}, \"xaxis\": {\"automargin\": true, \"gridcolor\": \"white\", \"linecolor\": \"white\", \"ticks\": \"\", \"title\": {\"standoff\": 15}, \"zerolinecolor\": \"white\", \"zerolinewidth\": 2}, \"yaxis\": {\"automargin\": true, \"gridcolor\": \"white\", \"linecolor\": \"white\", \"ticks\": \"\", \"title\": {\"standoff\": 15}, \"zerolinecolor\": \"white\", \"zerolinewidth\": 2}}}, \"title\": {\"text\": \"Comparison of Egg Whites and Whole Egg on sodium and cholesterol\"}},\n",
              "                        {\"responsive\": true}\n",
              "                    ).then(function(){\n",
              "                            \n",
              "var gd = document.getElementById('339b6ac5-1c38-43e7-9c58-5c22b85d61fe');\n",
              "var x = new MutationObserver(function (mutations, observer) {{\n",
              "        var display = window.getComputedStyle(gd).display;\n",
              "        if (!display || display === 'none') {{\n",
              "            console.log([gd, 'removed!']);\n",
              "            Plotly.purge(gd);\n",
              "            observer.disconnect();\n",
              "        }}\n",
              "}});\n",
              "\n",
              "// Listen for the removal of the full notebook cells\n",
              "var notebookContainer = gd.closest('#notebook-container');\n",
              "if (notebookContainer) {{\n",
              "    x.observe(notebookContainer, {childList: true});\n",
              "}}\n",
              "\n",
              "// Listen for the clearing of the current output cell\n",
              "var outputEl = gd.closest('.output');\n",
              "if (outputEl) {{\n",
              "    x.observe(outputEl, {childList: true});\n",
              "}}\n",
              "\n",
              "                        })\n",
              "                };\n",
              "                \n",
              "            </script>\n",
              "        </div>\n",
              "</body>\n",
              "</html>"
            ]
          },
          "metadata": {
            "tags": []
          }
        }
      ]
    },
    {
      "cell_type": "code",
      "metadata": {
        "id": "kqW6dDZpOHbZ",
        "outputId": "d1cbb9bf-f42d-46fb-a9d6-5569a706da5c",
        "colab": {
          "base_uri": "https://localhost:8080/",
          "height": 84
        }
      },
      "source": [
        "# Compare the average amount of sugars, dietary fiber, and protein on both categories\n",
        "# Get the average of sugars and dietary fiber amount in Egg Whites category\n",
        "avg_whites_sug = round(whites.Sugars.mean(), 2)\n",
        "avg_whites_df = round(whites['Dietary Fiber'].mean(), 2)\n",
        "print(\"The average amount of sugars in Egg Whites category is \", avg_whites_sug, \n",
        "      \"g, while the average amount of dietary fiber is \", avg_whites_df, \"g.\")\n",
        "\n",
        "# Get the average of sodium and cholesterol amount in Grilled Chicken category\n",
        "avg_whole_sug = round(whole.Sugars.mean(), 2)\n",
        "avg_whole_df = round(whole['Dietary Fiber'].mean( ), 2)\n",
        "print(\"The average amount of sugars in Whole Whites category is \", avg_whole_sug, \n",
        "      \"g, while the average amount of dietary fiber is \", avg_whole_df, \"g.\")\n",
        "\n",
        "# Get the average of Protein in whites egg category\n",
        "white_fcp = pd.DataFrame({'Item': whites.Item, 'Protein': whites['Protein']})\n",
        "avg_white_pro = round(white_fcp['Protein'].mean(), 2)\n",
        "print(\"The average amount of  Protein respectively in White Egg category is\", avg_white_pro, \"g.\")\n",
        "\n",
        "# Get the average of Fat, Carbohydrates and Protein in Whole Egg category\n",
        "whole_fcp = pd.DataFrame({'Item': whole.Item, 'Protein': whole['Protein']})\n",
        "avg_whole_pro = round(whole_fcp['Protein'].mean(), 2)\n",
        "print(\"The average amount of Fat, Carbohydrates and protein respectively in Whole Egg category is \", avg_whole_pro, \"g.\")"
      ],
      "execution_count": null,
      "outputs": [
        {
          "output_type": "stream",
          "text": [
            "The average amount of sugars in Egg Whites category is  7.62 g, while the average amount of dietary fiber is  3.46 g.\n",
            "The average amount of sugars in Whole Whites category is  6.64 g, while the average amount of dietary fiber is  3.16 g.\n",
            "The average amount of  Protein respectively in White Egg category is 23.69 g.\n",
            "The average amount of Fat, Carbohydrates and protein respectively in Whole Egg category is  22.92 g.\n"
          ],
          "name": "stdout"
        }
      ]
    },
    {
      "cell_type": "code",
      "metadata": {
        "id": "AHywULxfRyJT",
        "outputId": "41f44b06-a982-4d3e-a80f-e1d03f488147",
        "colab": {
          "base_uri": "https://localhost:8080/",
          "height": 542
        }
      },
      "source": [
        "# Get visual comparison of Egg Whites and Whole Egg on sugars, dietary fiber, and protein\n",
        "figsize=(10,5)\n",
        "labels = ['Egg Whites Sugars','Egg Whites Dietary Fiber', 'Whole Egg Sugars', \n",
        "          'Whole Egg Dietary Fiber','Egg Whites Protein','Whole Egg Protein']\n",
        "values = [avg_whites_sug, avg_whites_df, avg_whole_sug, avg_whole_df,avg_white_pro, avg_whole_pro]\n",
        "\n",
        "fig3 = go.Figure(data=[go.Pie(labels=labels, values=values)])\n",
        "fig3.update_layout(title_text=\"Comparison of Egg Whites and Whole Egg on sugars, dietary fiber, and protein\")\n",
        "fig3.show()"
      ],
      "execution_count": null,
      "outputs": [
        {
          "output_type": "display_data",
          "data": {
            "text/html": [
              "<html>\n",
              "<head><meta charset=\"utf-8\" /></head>\n",
              "<body>\n",
              "    <div>\n",
              "            <script src=\"https://cdnjs.cloudflare.com/ajax/libs/mathjax/2.7.5/MathJax.js?config=TeX-AMS-MML_SVG\"></script><script type=\"text/javascript\">if (window.MathJax) {MathJax.Hub.Config({SVG: {font: \"STIX-Web\"}});}</script>\n",
              "                <script type=\"text/javascript\">window.PlotlyConfig = {MathJaxConfig: 'local'};</script>\n",
              "        <script src=\"https://cdn.plot.ly/plotly-latest.min.js\"></script>    \n",
              "            <div id=\"5c23bbe6-55d5-4cd4-8f59-642c5f7ce737\" class=\"plotly-graph-div\" style=\"height:525px; width:100%;\"></div>\n",
              "            <script type=\"text/javascript\">\n",
              "                \n",
              "                    window.PLOTLYENV=window.PLOTLYENV || {};\n",
              "                    \n",
              "                if (document.getElementById(\"5c23bbe6-55d5-4cd4-8f59-642c5f7ce737\")) {\n",
              "                    Plotly.newPlot(\n",
              "                        '5c23bbe6-55d5-4cd4-8f59-642c5f7ce737',\n",
              "                        [{\"labels\": [\"Egg Whites Sugars\", \"Egg Whites Dietary Fiber\", \"Whole Egg Sugars\", \"Whole Egg Dietary Fiber\", \"Egg Whites Protein\", \"Whole Egg Protein\"], \"type\": \"pie\", \"values\": [7.62, 3.46, 6.64, 3.16, 23.69, 22.92]}],\n",
              "                        {\"template\": {\"data\": {\"bar\": [{\"error_x\": {\"color\": \"#2a3f5f\"}, \"error_y\": {\"color\": \"#2a3f5f\"}, \"marker\": {\"line\": {\"color\": \"#E5ECF6\", \"width\": 0.5}}, \"type\": \"bar\"}], \"barpolar\": [{\"marker\": {\"line\": {\"color\": \"#E5ECF6\", \"width\": 0.5}}, \"type\": \"barpolar\"}], \"carpet\": [{\"aaxis\": {\"endlinecolor\": \"#2a3f5f\", \"gridcolor\": \"white\", \"linecolor\": \"white\", \"minorgridcolor\": \"white\", \"startlinecolor\": \"#2a3f5f\"}, \"baxis\": {\"endlinecolor\": \"#2a3f5f\", \"gridcolor\": \"white\", \"linecolor\": \"white\", \"minorgridcolor\": \"white\", \"startlinecolor\": \"#2a3f5f\"}, \"type\": \"carpet\"}], \"choropleth\": [{\"colorbar\": {\"outlinewidth\": 0, \"ticks\": \"\"}, \"type\": \"choropleth\"}], \"contour\": [{\"colorbar\": {\"outlinewidth\": 0, \"ticks\": \"\"}, \"colorscale\": [[0.0, \"#0d0887\"], [0.1111111111111111, \"#46039f\"], [0.2222222222222222, \"#7201a8\"], [0.3333333333333333, \"#9c179e\"], [0.4444444444444444, \"#bd3786\"], [0.5555555555555556, \"#d8576b\"], [0.6666666666666666, \"#ed7953\"], [0.7777777777777778, \"#fb9f3a\"], [0.8888888888888888, \"#fdca26\"], [1.0, \"#f0f921\"]], \"type\": \"contour\"}], \"contourcarpet\": [{\"colorbar\": {\"outlinewidth\": 0, \"ticks\": \"\"}, \"type\": \"contourcarpet\"}], \"heatmap\": [{\"colorbar\": {\"outlinewidth\": 0, \"ticks\": \"\"}, \"colorscale\": [[0.0, \"#0d0887\"], [0.1111111111111111, \"#46039f\"], [0.2222222222222222, \"#7201a8\"], [0.3333333333333333, \"#9c179e\"], [0.4444444444444444, \"#bd3786\"], [0.5555555555555556, \"#d8576b\"], [0.6666666666666666, \"#ed7953\"], [0.7777777777777778, \"#fb9f3a\"], [0.8888888888888888, \"#fdca26\"], [1.0, \"#f0f921\"]], \"type\": \"heatmap\"}], \"heatmapgl\": [{\"colorbar\": {\"outlinewidth\": 0, \"ticks\": \"\"}, \"colorscale\": [[0.0, \"#0d0887\"], [0.1111111111111111, \"#46039f\"], [0.2222222222222222, \"#7201a8\"], [0.3333333333333333, \"#9c179e\"], [0.4444444444444444, \"#bd3786\"], [0.5555555555555556, \"#d8576b\"], [0.6666666666666666, \"#ed7953\"], [0.7777777777777778, \"#fb9f3a\"], [0.8888888888888888, \"#fdca26\"], [1.0, \"#f0f921\"]], \"type\": \"heatmapgl\"}], \"histogram\": [{\"marker\": {\"colorbar\": {\"outlinewidth\": 0, \"ticks\": \"\"}}, \"type\": \"histogram\"}], \"histogram2d\": [{\"colorbar\": {\"outlinewidth\": 0, \"ticks\": \"\"}, \"colorscale\": [[0.0, \"#0d0887\"], [0.1111111111111111, \"#46039f\"], [0.2222222222222222, \"#7201a8\"], [0.3333333333333333, \"#9c179e\"], [0.4444444444444444, \"#bd3786\"], [0.5555555555555556, \"#d8576b\"], [0.6666666666666666, \"#ed7953\"], [0.7777777777777778, \"#fb9f3a\"], [0.8888888888888888, \"#fdca26\"], [1.0, \"#f0f921\"]], \"type\": \"histogram2d\"}], \"histogram2dcontour\": [{\"colorbar\": {\"outlinewidth\": 0, \"ticks\": \"\"}, \"colorscale\": [[0.0, \"#0d0887\"], [0.1111111111111111, \"#46039f\"], [0.2222222222222222, \"#7201a8\"], [0.3333333333333333, \"#9c179e\"], [0.4444444444444444, \"#bd3786\"], [0.5555555555555556, \"#d8576b\"], [0.6666666666666666, \"#ed7953\"], [0.7777777777777778, \"#fb9f3a\"], [0.8888888888888888, \"#fdca26\"], [1.0, \"#f0f921\"]], \"type\": \"histogram2dcontour\"}], \"mesh3d\": [{\"colorbar\": {\"outlinewidth\": 0, \"ticks\": \"\"}, \"type\": \"mesh3d\"}], \"parcoords\": [{\"line\": {\"colorbar\": {\"outlinewidth\": 0, \"ticks\": \"\"}}, \"type\": \"parcoords\"}], \"pie\": [{\"automargin\": true, \"type\": \"pie\"}], \"scatter\": [{\"marker\": {\"colorbar\": {\"outlinewidth\": 0, \"ticks\": \"\"}}, \"type\": \"scatter\"}], \"scatter3d\": [{\"line\": {\"colorbar\": {\"outlinewidth\": 0, \"ticks\": \"\"}}, \"marker\": {\"colorbar\": {\"outlinewidth\": 0, \"ticks\": \"\"}}, \"type\": \"scatter3d\"}], \"scattercarpet\": [{\"marker\": {\"colorbar\": {\"outlinewidth\": 0, \"ticks\": \"\"}}, \"type\": \"scattercarpet\"}], \"scattergeo\": [{\"marker\": {\"colorbar\": {\"outlinewidth\": 0, \"ticks\": \"\"}}, \"type\": \"scattergeo\"}], \"scattergl\": [{\"marker\": {\"colorbar\": {\"outlinewidth\": 0, \"ticks\": \"\"}}, \"type\": \"scattergl\"}], \"scattermapbox\": [{\"marker\": {\"colorbar\": {\"outlinewidth\": 0, \"ticks\": \"\"}}, \"type\": \"scattermapbox\"}], \"scatterpolar\": [{\"marker\": {\"colorbar\": {\"outlinewidth\": 0, \"ticks\": \"\"}}, \"type\": \"scatterpolar\"}], \"scatterpolargl\": [{\"marker\": {\"colorbar\": {\"outlinewidth\": 0, \"ticks\": \"\"}}, \"type\": \"scatterpolargl\"}], \"scatterternary\": [{\"marker\": {\"colorbar\": {\"outlinewidth\": 0, \"ticks\": \"\"}}, \"type\": \"scatterternary\"}], \"surface\": [{\"colorbar\": {\"outlinewidth\": 0, \"ticks\": \"\"}, \"colorscale\": [[0.0, \"#0d0887\"], [0.1111111111111111, \"#46039f\"], [0.2222222222222222, \"#7201a8\"], [0.3333333333333333, \"#9c179e\"], [0.4444444444444444, \"#bd3786\"], [0.5555555555555556, \"#d8576b\"], [0.6666666666666666, \"#ed7953\"], [0.7777777777777778, \"#fb9f3a\"], [0.8888888888888888, \"#fdca26\"], [1.0, \"#f0f921\"]], \"type\": \"surface\"}], \"table\": [{\"cells\": {\"fill\": {\"color\": \"#EBF0F8\"}, \"line\": {\"color\": \"white\"}}, \"header\": {\"fill\": {\"color\": \"#C8D4E3\"}, \"line\": {\"color\": \"white\"}}, \"type\": \"table\"}]}, \"layout\": {\"annotationdefaults\": {\"arrowcolor\": \"#2a3f5f\", \"arrowhead\": 0, \"arrowwidth\": 1}, \"coloraxis\": {\"colorbar\": {\"outlinewidth\": 0, \"ticks\": \"\"}}, \"colorscale\": {\"diverging\": [[0, \"#8e0152\"], [0.1, \"#c51b7d\"], [0.2, \"#de77ae\"], [0.3, \"#f1b6da\"], [0.4, \"#fde0ef\"], [0.5, \"#f7f7f7\"], [0.6, \"#e6f5d0\"], [0.7, \"#b8e186\"], [0.8, \"#7fbc41\"], [0.9, \"#4d9221\"], [1, \"#276419\"]], \"sequential\": [[0.0, \"#0d0887\"], [0.1111111111111111, \"#46039f\"], [0.2222222222222222, \"#7201a8\"], [0.3333333333333333, \"#9c179e\"], [0.4444444444444444, \"#bd3786\"], [0.5555555555555556, \"#d8576b\"], [0.6666666666666666, \"#ed7953\"], [0.7777777777777778, \"#fb9f3a\"], [0.8888888888888888, \"#fdca26\"], [1.0, \"#f0f921\"]], \"sequentialminus\": [[0.0, \"#0d0887\"], [0.1111111111111111, \"#46039f\"], [0.2222222222222222, \"#7201a8\"], [0.3333333333333333, \"#9c179e\"], [0.4444444444444444, \"#bd3786\"], [0.5555555555555556, \"#d8576b\"], [0.6666666666666666, \"#ed7953\"], [0.7777777777777778, \"#fb9f3a\"], [0.8888888888888888, \"#fdca26\"], [1.0, \"#f0f921\"]]}, \"colorway\": [\"#636efa\", \"#EF553B\", \"#00cc96\", \"#ab63fa\", \"#FFA15A\", \"#19d3f3\", \"#FF6692\", \"#B6E880\", \"#FF97FF\", \"#FECB52\"], \"font\": {\"color\": \"#2a3f5f\"}, \"geo\": {\"bgcolor\": \"white\", \"lakecolor\": \"white\", \"landcolor\": \"#E5ECF6\", \"showlakes\": true, \"showland\": true, \"subunitcolor\": \"white\"}, \"hoverlabel\": {\"align\": \"left\"}, \"hovermode\": \"closest\", \"mapbox\": {\"style\": \"light\"}, \"paper_bgcolor\": \"white\", \"plot_bgcolor\": \"#E5ECF6\", \"polar\": {\"angularaxis\": {\"gridcolor\": \"white\", \"linecolor\": \"white\", \"ticks\": \"\"}, \"bgcolor\": \"#E5ECF6\", \"radialaxis\": {\"gridcolor\": \"white\", \"linecolor\": \"white\", \"ticks\": \"\"}}, \"scene\": {\"xaxis\": {\"backgroundcolor\": \"#E5ECF6\", \"gridcolor\": \"white\", \"gridwidth\": 2, \"linecolor\": \"white\", \"showbackground\": true, \"ticks\": \"\", \"zerolinecolor\": \"white\"}, \"yaxis\": {\"backgroundcolor\": \"#E5ECF6\", \"gridcolor\": \"white\", \"gridwidth\": 2, \"linecolor\": \"white\", \"showbackground\": true, \"ticks\": \"\", \"zerolinecolor\": \"white\"}, \"zaxis\": {\"backgroundcolor\": \"#E5ECF6\", \"gridcolor\": \"white\", \"gridwidth\": 2, \"linecolor\": \"white\", \"showbackground\": true, \"ticks\": \"\", \"zerolinecolor\": \"white\"}}, \"shapedefaults\": {\"line\": {\"color\": \"#2a3f5f\"}}, \"ternary\": {\"aaxis\": {\"gridcolor\": \"white\", \"linecolor\": \"white\", \"ticks\": \"\"}, \"baxis\": {\"gridcolor\": \"white\", \"linecolor\": \"white\", \"ticks\": \"\"}, \"bgcolor\": \"#E5ECF6\", \"caxis\": {\"gridcolor\": \"white\", \"linecolor\": \"white\", \"ticks\": \"\"}}, \"title\": {\"x\": 0.05}, \"xaxis\": {\"automargin\": true, \"gridcolor\": \"white\", \"linecolor\": \"white\", \"ticks\": \"\", \"title\": {\"standoff\": 15}, \"zerolinecolor\": \"white\", \"zerolinewidth\": 2}, \"yaxis\": {\"automargin\": true, \"gridcolor\": \"white\", \"linecolor\": \"white\", \"ticks\": \"\", \"title\": {\"standoff\": 15}, \"zerolinecolor\": \"white\", \"zerolinewidth\": 2}}}, \"title\": {\"text\": \"Comparison of Egg Whites and Whole Egg on sugars, dietary fiber, and protein\"}},\n",
              "                        {\"responsive\": true}\n",
              "                    ).then(function(){\n",
              "                            \n",
              "var gd = document.getElementById('5c23bbe6-55d5-4cd4-8f59-642c5f7ce737');\n",
              "var x = new MutationObserver(function (mutations, observer) {{\n",
              "        var display = window.getComputedStyle(gd).display;\n",
              "        if (!display || display === 'none') {{\n",
              "            console.log([gd, 'removed!']);\n",
              "            Plotly.purge(gd);\n",
              "            observer.disconnect();\n",
              "        }}\n",
              "}});\n",
              "\n",
              "// Listen for the removal of the full notebook cells\n",
              "var notebookContainer = gd.closest('#notebook-container');\n",
              "if (notebookContainer) {{\n",
              "    x.observe(notebookContainer, {childList: true});\n",
              "}}\n",
              "\n",
              "// Listen for the clearing of the current output cell\n",
              "var outputEl = gd.closest('.output');\n",
              "if (outputEl) {{\n",
              "    x.observe(outputEl, {childList: true});\n",
              "}}\n",
              "\n",
              "                        })\n",
              "                };\n",
              "                \n",
              "            </script>\n",
              "        </div>\n",
              "</body>\n",
              "</html>"
            ]
          },
          "metadata": {
            "tags": []
          }
        }
      ]
    },
    {
      "cell_type": "code",
      "metadata": {
        "id": "tt0l460_QjqS",
        "outputId": "684a31e9-c07b-46fa-ab2f-a7ecfbabb65e",
        "colab": {
          "base_uri": "https://localhost:8080/",
          "height": 104
        }
      },
      "source": [
        "# Compare the average amount of vitamins, minerals, Fat and Carbohydrates on both categories\n",
        "# Get the average of vitamins and minerals in Egg Whites category\n",
        "whites_vm = pd.DataFrame({'Item': whites.Item, 'Vit A': whites['Vitamin A (% Daily Value)'], \n",
        "                          'Vit C': whites['Vitamin C (% Daily Value)'], 'Calcium': whites['Calcium (% Daily Value)'], \n",
        "                          'Iron': whites['Iron (% Daily Value)']})\n",
        "avg_whites_vita = round(whites_vm['Vit A'].mean(), 2)\n",
        "avg_whites_vitc = round(whites_vm['Vit C'].mean(), 2)\n",
        "avg_whites_calc = round(whites_vm['Calcium'].mean(), 2)\n",
        "avg_whites_iron = round(whites_vm['Iron'].mean(), 2)\n",
        "print(\"The average amount of Vit A, Vit C, Calcium, and Iron respectively in Egg Whites category is \", \n",
        "      avg_whites_vita, \"%DV,\", avg_whites_vitc, \"%DV,\", avg_whites_calc, \"%DV, and\", avg_whites_iron, \"%DV.\")\n",
        "\n",
        "# Get the average of vitamins and minerals in Whole Eggs category\n",
        "whole_vm = pd.DataFrame({'Item': whole.Item, 'Vit A': whole['Vitamin A (% Daily Value)'], \n",
        "                         'Vit C': whole['Vitamin C (% Daily Value)'], 'Calcium': whole['Calcium (% Daily Value)'], \n",
        "                         'Iron': whole['Iron (% Daily Value)']})\n",
        "avg_whole_vita = round(whole_vm['Vit A'].mean(), 2)\n",
        "avg_whole_vitc = round(whole_vm['Vit C'].mean(), 2)\n",
        "avg_whole_calc = round(whole_vm['Calcium'].mean(), 2)\n",
        "avg_whole_iron = round(whole_vm['Iron'].mean(), 2)\n",
        "print(\"The average amount of Vit A, Vit C, Calcium, and Iron respectively in Whole Eggs category is \", \n",
        "      avg_whole_vita, \"%DV,\", avg_whole_vitc, \"%DV,\", avg_whole_calc, \"%DV, and\", avg_whole_iron, \"%DV.\")\n",
        "\n",
        "# Get the average of Fat and Carbohydrates  in whites egg category\n",
        "white_fcp = pd.DataFrame({'Item': whites.Item, 'Total Fat': whites['Total Fat (% Daily Value)'], \n",
        "                          'Carbohydrates': whites['Carbohydrates (% Daily Value)']})\n",
        "avg_white_fat = round(white_fcp['Total Fat'].mean(), 2)\n",
        "avg_white_carb = round(white_fcp['Carbohydrates'].mean(), 2)\n",
        "print(\"The average amount of Fat and Carbohydrates respectively in White Egg category is \", \n",
        "      avg_white_fat, \"%DV,\", avg_white_carb, \"%DV.\")\n",
        "\n",
        "# Get the average of Fat and Carbohydrates Whole Egg category\n",
        "whole_fcp = pd.DataFrame({'Item': whole.Item, 'Total Fat': whole['Total Fat (% Daily Value)'], \n",
        "                          'Carbohydrates': whole['Carbohydrates (% Daily Value)']})\n",
        "avg_whole_fat = round(whole_fcp['Total Fat'].mean(), 2)\n",
        "avg_whole_carb = round(whole_fcp['Carbohydrates'].mean(), 2)\n",
        "print(\"The average amount of Fat and Carbohydrates respectively in Whole Egg category is \", \n",
        "      avg_whole_fat, \"%DV,\", avg_whole_carb, \"%DV.\")"
      ],
      "execution_count": null,
      "outputs": [
        {
          "output_type": "stream",
          "text": [
            "The average amount of Vit A, Vit C, Calcium, and Iron respectively in Egg Whites category is  3.54 %DV, 3.77 %DV, 17.0 %DV, and 15.23 %DV.\n",
            "The average amount of Vit A, Vit C, Calcium, and Iron respectively in Whole Eggs category is  7.88 %DV, 3.92 %DV, 18.64 %DV, and 16.92 %DV.\n",
            "The average amount of Fat and Carbohydrates respectively in White Egg category is  44.46 %DV, 17.62 %DV.\n",
            "The average amount of Fat and Carbohydrates respectively in Whole Egg category is  44.04 %DV, 15.8 %DV.\n"
          ],
          "name": "stdout"
        }
      ]
    },
    {
      "cell_type": "code",
      "metadata": {
        "id": "D50e8tjQUNcP",
        "outputId": "b11f8347-e766-4b16-e7a6-17602e2ee5a9",
        "colab": {
          "base_uri": "https://localhost:8080/",
          "height": 542
        }
      },
      "source": [
        "# Get visual comparison of Egg Whites and Whole Egg on vitamins, minerals, Fat and Carbohydrates\n",
        "figsize=(10,5)\n",
        "labels = ['Egg Whites Vit A','Egg Whites Vit C', 'Egg Whites Calcium','Egg Whites Iron',\n",
        "          'Whole Egg Vit A', 'Whole Egg Vit C', 'Whole Egg Calcium', 'Whole Egg Iron', \n",
        "          'Egg Whites Fat','Egg Whites Carbohydrates','Whole Egg Fat', 'Whole Egg  Carbohydrates']\n",
        "values = [avg_whites_vita, avg_whites_vitc, avg_whites_calc, avg_whites_iron,\n",
        "          avg_whole_vita, avg_whole_vitc, avg_whole_calc, avg_whole_iron, avg_white_fat, \n",
        "          avg_white_carb, avg_whole_fat, avg_whole_carb]\n",
        "          \n",
        "fig4 = go.Figure(data=[go.Pie(labels=labels, values=values)])\n",
        "fig4.update_layout(title_text=\"Comparison of Egg Whites and Whole Egg on vitamins, minerals, Fat and Carbohydrates \")\n",
        "fig4.show()"
      ],
      "execution_count": null,
      "outputs": [
        {
          "output_type": "display_data",
          "data": {
            "text/html": [
              "<html>\n",
              "<head><meta charset=\"utf-8\" /></head>\n",
              "<body>\n",
              "    <div>\n",
              "            <script src=\"https://cdnjs.cloudflare.com/ajax/libs/mathjax/2.7.5/MathJax.js?config=TeX-AMS-MML_SVG\"></script><script type=\"text/javascript\">if (window.MathJax) {MathJax.Hub.Config({SVG: {font: \"STIX-Web\"}});}</script>\n",
              "                <script type=\"text/javascript\">window.PlotlyConfig = {MathJaxConfig: 'local'};</script>\n",
              "        <script src=\"https://cdn.plot.ly/plotly-latest.min.js\"></script>    \n",
              "            <div id=\"ac9c8fda-854a-43de-bf3e-1ffc10f27b4a\" class=\"plotly-graph-div\" style=\"height:525px; width:100%;\"></div>\n",
              "            <script type=\"text/javascript\">\n",
              "                \n",
              "                    window.PLOTLYENV=window.PLOTLYENV || {};\n",
              "                    \n",
              "                if (document.getElementById(\"ac9c8fda-854a-43de-bf3e-1ffc10f27b4a\")) {\n",
              "                    Plotly.newPlot(\n",
              "                        'ac9c8fda-854a-43de-bf3e-1ffc10f27b4a',\n",
              "                        [{\"labels\": [\"Egg Whites Vit A\", \"Egg Whites Vit C\", \"Egg Whites Calcium\", \"Egg Whites Iron\", \"Whole Egg Vit A\", \"Whole Egg Vit C\", \"Whole Egg Calcium\", \"Whole Egg Iron\", \"Egg Whites Fat\", \"Egg Whites Carbohydrates\", \"Whole Egg Fat\", \"Whole Egg  Carbohydrates\"], \"type\": \"pie\", \"values\": [3.54, 3.77, 17.0, 15.23, 7.88, 3.92, 18.64, 16.92, 44.46, 17.62, 44.04, 15.8]}],\n",
              "                        {\"template\": {\"data\": {\"bar\": [{\"error_x\": {\"color\": \"#2a3f5f\"}, \"error_y\": {\"color\": \"#2a3f5f\"}, \"marker\": {\"line\": {\"color\": \"#E5ECF6\", \"width\": 0.5}}, \"type\": \"bar\"}], \"barpolar\": [{\"marker\": {\"line\": {\"color\": \"#E5ECF6\", \"width\": 0.5}}, \"type\": \"barpolar\"}], \"carpet\": [{\"aaxis\": {\"endlinecolor\": \"#2a3f5f\", \"gridcolor\": \"white\", \"linecolor\": \"white\", \"minorgridcolor\": \"white\", \"startlinecolor\": \"#2a3f5f\"}, \"baxis\": {\"endlinecolor\": \"#2a3f5f\", \"gridcolor\": \"white\", \"linecolor\": \"white\", \"minorgridcolor\": \"white\", \"startlinecolor\": \"#2a3f5f\"}, \"type\": \"carpet\"}], \"choropleth\": [{\"colorbar\": {\"outlinewidth\": 0, \"ticks\": \"\"}, \"type\": \"choropleth\"}], \"contour\": [{\"colorbar\": {\"outlinewidth\": 0, \"ticks\": \"\"}, \"colorscale\": [[0.0, \"#0d0887\"], [0.1111111111111111, \"#46039f\"], [0.2222222222222222, \"#7201a8\"], [0.3333333333333333, \"#9c179e\"], [0.4444444444444444, \"#bd3786\"], [0.5555555555555556, \"#d8576b\"], [0.6666666666666666, \"#ed7953\"], [0.7777777777777778, \"#fb9f3a\"], [0.8888888888888888, \"#fdca26\"], [1.0, \"#f0f921\"]], \"type\": \"contour\"}], \"contourcarpet\": [{\"colorbar\": {\"outlinewidth\": 0, \"ticks\": \"\"}, \"type\": \"contourcarpet\"}], \"heatmap\": [{\"colorbar\": {\"outlinewidth\": 0, \"ticks\": \"\"}, \"colorscale\": [[0.0, \"#0d0887\"], [0.1111111111111111, \"#46039f\"], [0.2222222222222222, \"#7201a8\"], [0.3333333333333333, \"#9c179e\"], [0.4444444444444444, \"#bd3786\"], [0.5555555555555556, \"#d8576b\"], [0.6666666666666666, \"#ed7953\"], [0.7777777777777778, \"#fb9f3a\"], [0.8888888888888888, \"#fdca26\"], [1.0, \"#f0f921\"]], \"type\": \"heatmap\"}], \"heatmapgl\": [{\"colorbar\": {\"outlinewidth\": 0, \"ticks\": \"\"}, \"colorscale\": [[0.0, \"#0d0887\"], [0.1111111111111111, \"#46039f\"], [0.2222222222222222, \"#7201a8\"], [0.3333333333333333, \"#9c179e\"], [0.4444444444444444, \"#bd3786\"], [0.5555555555555556, \"#d8576b\"], [0.6666666666666666, \"#ed7953\"], [0.7777777777777778, \"#fb9f3a\"], [0.8888888888888888, \"#fdca26\"], [1.0, \"#f0f921\"]], \"type\": \"heatmapgl\"}], \"histogram\": [{\"marker\": {\"colorbar\": {\"outlinewidth\": 0, \"ticks\": \"\"}}, \"type\": \"histogram\"}], \"histogram2d\": [{\"colorbar\": {\"outlinewidth\": 0, \"ticks\": \"\"}, \"colorscale\": [[0.0, \"#0d0887\"], [0.1111111111111111, \"#46039f\"], [0.2222222222222222, \"#7201a8\"], [0.3333333333333333, \"#9c179e\"], [0.4444444444444444, \"#bd3786\"], [0.5555555555555556, \"#d8576b\"], [0.6666666666666666, \"#ed7953\"], [0.7777777777777778, \"#fb9f3a\"], [0.8888888888888888, \"#fdca26\"], [1.0, \"#f0f921\"]], \"type\": \"histogram2d\"}], \"histogram2dcontour\": [{\"colorbar\": {\"outlinewidth\": 0, \"ticks\": \"\"}, \"colorscale\": [[0.0, \"#0d0887\"], [0.1111111111111111, \"#46039f\"], [0.2222222222222222, \"#7201a8\"], [0.3333333333333333, \"#9c179e\"], [0.4444444444444444, \"#bd3786\"], [0.5555555555555556, \"#d8576b\"], [0.6666666666666666, \"#ed7953\"], [0.7777777777777778, \"#fb9f3a\"], [0.8888888888888888, \"#fdca26\"], [1.0, \"#f0f921\"]], \"type\": \"histogram2dcontour\"}], \"mesh3d\": [{\"colorbar\": {\"outlinewidth\": 0, \"ticks\": \"\"}, \"type\": \"mesh3d\"}], \"parcoords\": [{\"line\": {\"colorbar\": {\"outlinewidth\": 0, \"ticks\": \"\"}}, \"type\": \"parcoords\"}], \"pie\": [{\"automargin\": true, \"type\": \"pie\"}], \"scatter\": [{\"marker\": {\"colorbar\": {\"outlinewidth\": 0, \"ticks\": \"\"}}, \"type\": \"scatter\"}], \"scatter3d\": [{\"line\": {\"colorbar\": {\"outlinewidth\": 0, \"ticks\": \"\"}}, \"marker\": {\"colorbar\": {\"outlinewidth\": 0, \"ticks\": \"\"}}, \"type\": \"scatter3d\"}], \"scattercarpet\": [{\"marker\": {\"colorbar\": {\"outlinewidth\": 0, \"ticks\": \"\"}}, \"type\": \"scattercarpet\"}], \"scattergeo\": [{\"marker\": {\"colorbar\": {\"outlinewidth\": 0, \"ticks\": \"\"}}, \"type\": \"scattergeo\"}], \"scattergl\": [{\"marker\": {\"colorbar\": {\"outlinewidth\": 0, \"ticks\": \"\"}}, \"type\": \"scattergl\"}], \"scattermapbox\": [{\"marker\": {\"colorbar\": {\"outlinewidth\": 0, \"ticks\": \"\"}}, \"type\": \"scattermapbox\"}], \"scatterpolar\": [{\"marker\": {\"colorbar\": {\"outlinewidth\": 0, \"ticks\": \"\"}}, \"type\": \"scatterpolar\"}], \"scatterpolargl\": [{\"marker\": {\"colorbar\": {\"outlinewidth\": 0, \"ticks\": \"\"}}, \"type\": \"scatterpolargl\"}], \"scatterternary\": [{\"marker\": {\"colorbar\": {\"outlinewidth\": 0, \"ticks\": \"\"}}, \"type\": \"scatterternary\"}], \"surface\": [{\"colorbar\": {\"outlinewidth\": 0, \"ticks\": \"\"}, \"colorscale\": [[0.0, \"#0d0887\"], [0.1111111111111111, \"#46039f\"], [0.2222222222222222, \"#7201a8\"], [0.3333333333333333, \"#9c179e\"], [0.4444444444444444, \"#bd3786\"], [0.5555555555555556, \"#d8576b\"], [0.6666666666666666, \"#ed7953\"], [0.7777777777777778, \"#fb9f3a\"], [0.8888888888888888, \"#fdca26\"], [1.0, \"#f0f921\"]], \"type\": \"surface\"}], \"table\": [{\"cells\": {\"fill\": {\"color\": \"#EBF0F8\"}, \"line\": {\"color\": \"white\"}}, \"header\": {\"fill\": {\"color\": \"#C8D4E3\"}, \"line\": {\"color\": \"white\"}}, \"type\": \"table\"}]}, \"layout\": {\"annotationdefaults\": {\"arrowcolor\": \"#2a3f5f\", \"arrowhead\": 0, \"arrowwidth\": 1}, \"coloraxis\": {\"colorbar\": {\"outlinewidth\": 0, \"ticks\": \"\"}}, \"colorscale\": {\"diverging\": [[0, \"#8e0152\"], [0.1, \"#c51b7d\"], [0.2, \"#de77ae\"], [0.3, \"#f1b6da\"], [0.4, \"#fde0ef\"], [0.5, \"#f7f7f7\"], [0.6, \"#e6f5d0\"], [0.7, \"#b8e186\"], [0.8, \"#7fbc41\"], [0.9, \"#4d9221\"], [1, \"#276419\"]], \"sequential\": [[0.0, \"#0d0887\"], [0.1111111111111111, \"#46039f\"], [0.2222222222222222, \"#7201a8\"], [0.3333333333333333, \"#9c179e\"], [0.4444444444444444, \"#bd3786\"], [0.5555555555555556, \"#d8576b\"], [0.6666666666666666, \"#ed7953\"], [0.7777777777777778, \"#fb9f3a\"], [0.8888888888888888, \"#fdca26\"], [1.0, \"#f0f921\"]], \"sequentialminus\": [[0.0, \"#0d0887\"], [0.1111111111111111, \"#46039f\"], [0.2222222222222222, \"#7201a8\"], [0.3333333333333333, \"#9c179e\"], [0.4444444444444444, \"#bd3786\"], [0.5555555555555556, \"#d8576b\"], [0.6666666666666666, \"#ed7953\"], [0.7777777777777778, \"#fb9f3a\"], [0.8888888888888888, \"#fdca26\"], [1.0, \"#f0f921\"]]}, \"colorway\": [\"#636efa\", \"#EF553B\", \"#00cc96\", \"#ab63fa\", \"#FFA15A\", \"#19d3f3\", \"#FF6692\", \"#B6E880\", \"#FF97FF\", \"#FECB52\"], \"font\": {\"color\": \"#2a3f5f\"}, \"geo\": {\"bgcolor\": \"white\", \"lakecolor\": \"white\", \"landcolor\": \"#E5ECF6\", \"showlakes\": true, \"showland\": true, \"subunitcolor\": \"white\"}, \"hoverlabel\": {\"align\": \"left\"}, \"hovermode\": \"closest\", \"mapbox\": {\"style\": \"light\"}, \"paper_bgcolor\": \"white\", \"plot_bgcolor\": \"#E5ECF6\", \"polar\": {\"angularaxis\": {\"gridcolor\": \"white\", \"linecolor\": \"white\", \"ticks\": \"\"}, \"bgcolor\": \"#E5ECF6\", \"radialaxis\": {\"gridcolor\": \"white\", \"linecolor\": \"white\", \"ticks\": \"\"}}, \"scene\": {\"xaxis\": {\"backgroundcolor\": \"#E5ECF6\", \"gridcolor\": \"white\", \"gridwidth\": 2, \"linecolor\": \"white\", \"showbackground\": true, \"ticks\": \"\", \"zerolinecolor\": \"white\"}, \"yaxis\": {\"backgroundcolor\": \"#E5ECF6\", \"gridcolor\": \"white\", \"gridwidth\": 2, \"linecolor\": \"white\", \"showbackground\": true, \"ticks\": \"\", \"zerolinecolor\": \"white\"}, \"zaxis\": {\"backgroundcolor\": \"#E5ECF6\", \"gridcolor\": \"white\", \"gridwidth\": 2, \"linecolor\": \"white\", \"showbackground\": true, \"ticks\": \"\", \"zerolinecolor\": \"white\"}}, \"shapedefaults\": {\"line\": {\"color\": \"#2a3f5f\"}}, \"ternary\": {\"aaxis\": {\"gridcolor\": \"white\", \"linecolor\": \"white\", \"ticks\": \"\"}, \"baxis\": {\"gridcolor\": \"white\", \"linecolor\": \"white\", \"ticks\": \"\"}, \"bgcolor\": \"#E5ECF6\", \"caxis\": {\"gridcolor\": \"white\", \"linecolor\": \"white\", \"ticks\": \"\"}}, \"title\": {\"x\": 0.05}, \"xaxis\": {\"automargin\": true, \"gridcolor\": \"white\", \"linecolor\": \"white\", \"ticks\": \"\", \"title\": {\"standoff\": 15}, \"zerolinecolor\": \"white\", \"zerolinewidth\": 2}, \"yaxis\": {\"automargin\": true, \"gridcolor\": \"white\", \"linecolor\": \"white\", \"ticks\": \"\", \"title\": {\"standoff\": 15}, \"zerolinecolor\": \"white\", \"zerolinewidth\": 2}}}, \"title\": {\"text\": \"Comparison of Egg Whites and Whole Egg on vitamins, minerals, Fat and Carbohydrates \"}},\n",
              "                        {\"responsive\": true}\n",
              "                    ).then(function(){\n",
              "                            \n",
              "var gd = document.getElementById('ac9c8fda-854a-43de-bf3e-1ffc10f27b4a');\n",
              "var x = new MutationObserver(function (mutations, observer) {{\n",
              "        var display = window.getComputedStyle(gd).display;\n",
              "        if (!display || display === 'none') {{\n",
              "            console.log([gd, 'removed!']);\n",
              "            Plotly.purge(gd);\n",
              "            observer.disconnect();\n",
              "        }}\n",
              "}});\n",
              "\n",
              "// Listen for the removal of the full notebook cells\n",
              "var notebookContainer = gd.closest('#notebook-container');\n",
              "if (notebookContainer) {{\n",
              "    x.observe(notebookContainer, {childList: true});\n",
              "}}\n",
              "\n",
              "// Listen for the clearing of the current output cell\n",
              "var outputEl = gd.closest('.output');\n",
              "if (outputEl) {{\n",
              "    x.observe(outputEl, {childList: true});\n",
              "}}\n",
              "\n",
              "                        })\n",
              "                };\n",
              "                \n",
              "            </script>\n",
              "        </div>\n",
              "</body>\n",
              "</html>"
            ]
          },
          "metadata": {
            "tags": []
          }
        }
      ]
    },
    {
      "cell_type": "markdown",
      "metadata": {
        "id": "AQ9M2YczXl53"
      },
      "source": [
        "Ordered Egg Whites instead of whole egg, increase a nutritional value\n",
        "\n",
        "Egg Whites Category has more nutritional values in terms of the average amount of Sugars, Dietary Fiber, Fat, Carbohydrates and Protein than menu items in While Egg Category"
      ]
    },
    {
      "cell_type": "markdown",
      "metadata": {
        "id": "c1QvFHj6XCee"
      },
      "source": [
        "#**e. What is the least number of items could you order from the menu to meet one day's nutritional requirements?**"
      ]
    },
    {
      "cell_type": "code",
      "metadata": {
        "id": "DMst3mgYp-VW"
      },
      "source": [
        "nutrition = df[['Category','Item', 'Calories', 'Total Fat', 'Protein','Carbohydrates']]"
      ],
      "execution_count": null,
      "outputs": []
    },
    {
      "cell_type": "markdown",
      "metadata": {
        "id": "AjH9G9-0ErWd"
      },
      "source": [
        "Daily Calorie Intake is 2000\n",
        "\n",
        "Daily Totalfat Intake 20% to 35%\n",
        "\n",
        "Daily Protein Intake is 46 grams\n",
        "\n",
        "Daily Carbohydates Intake is between 225 and 325 grams"
      ]
    },
    {
      "cell_type": "code",
      "metadata": {
        "id": "lArv0xgGV5fd",
        "outputId": "99841f31-9c66-4f6b-bc7b-d7f7d9dfe7d1",
        "colab": {
          "base_uri": "https://localhost:8080/",
          "height": 84
        }
      },
      "source": [
        "calories = input(\"Enter Calories: \")\n",
        "totalfat = input(\"Enter Total Fat %: \")\n",
        "#Because we generally want more protein in meals\n",
        "protein = input(\"Enter Min Amount of Protein: \")\n",
        "carbo = input(\"Enter Min Amount of Carbohydates: \")"
      ],
      "execution_count": null,
      "outputs": [
        {
          "output_type": "stream",
          "text": [
            "Enter Calories: 2000\n",
            "Enter Total Fat %: 35\n",
            "Enter Min Amount of Protein: 46\n",
            "Enter Min Amount of Carbohydates: 325\n"
          ],
          "name": "stdout"
        }
      ]
    },
    {
      "cell_type": "code",
      "metadata": {
        "id": "c1Gbq_80-ki1",
        "outputId": "87bfbeff-2ab3-4d81-9712-54a040eb7d39",
        "colab": {
          "base_uri": "https://localhost:8080/",
          "height": 195
        }
      },
      "source": [
        "filtered1 = nutrition[(nutrition['Calories'] < int(calories))]\n",
        "filtered2 = nutrition[(nutrition['Total Fat'] < int(totalfat))]\n",
        "filtered3 = nutrition[(nutrition['Protein'] < int(protein))]\n",
        "filtered4 = nutrition[(nutrition['Carbohydrates'] < int(carbo))]\n",
        "filtered1 = filtered1.sort_values('Calories', ascending=False)\n",
        "filtered2 = filtered2.sort_values('Total Fat', ascending=False)\n",
        "filtered3 = filtered3.sort_values('Protein', ascending=False)\n",
        "filtered4 = filtered4.sort_values('Carbohydrates', ascending=False)\n",
        "filtered1.head()"
      ],
      "execution_count": null,
      "outputs": [
        {
          "output_type": "execute_result",
          "data": {
            "text/html": [
              "<div>\n",
              "<style scoped>\n",
              "    .dataframe tbody tr th:only-of-type {\n",
              "        vertical-align: middle;\n",
              "    }\n",
              "\n",
              "    .dataframe tbody tr th {\n",
              "        vertical-align: top;\n",
              "    }\n",
              "\n",
              "    .dataframe thead th {\n",
              "        text-align: right;\n",
              "    }\n",
              "</style>\n",
              "<table border=\"1\" class=\"dataframe\">\n",
              "  <thead>\n",
              "    <tr style=\"text-align: right;\">\n",
              "      <th></th>\n",
              "      <th>Category</th>\n",
              "      <th>Item</th>\n",
              "      <th>Calories</th>\n",
              "      <th>Total Fat</th>\n",
              "      <th>Protein</th>\n",
              "      <th>Carbohydrates</th>\n",
              "    </tr>\n",
              "  </thead>\n",
              "  <tbody>\n",
              "    <tr>\n",
              "      <th>82</th>\n",
              "      <td>Chicken &amp; Fish</td>\n",
              "      <td>Chicken McNuggets (40 piece)</td>\n",
              "      <td>1880</td>\n",
              "      <td>118.0</td>\n",
              "      <td>87</td>\n",
              "      <td>118</td>\n",
              "    </tr>\n",
              "    <tr>\n",
              "      <th>32</th>\n",
              "      <td>Breakfast</td>\n",
              "      <td>Big Breakfast with Hotcakes (Large Biscuit)</td>\n",
              "      <td>1150</td>\n",
              "      <td>60.0</td>\n",
              "      <td>36</td>\n",
              "      <td>116</td>\n",
              "    </tr>\n",
              "    <tr>\n",
              "      <th>31</th>\n",
              "      <td>Breakfast</td>\n",
              "      <td>Big Breakfast with Hotcakes (Regular Biscuit)</td>\n",
              "      <td>1090</td>\n",
              "      <td>56.0</td>\n",
              "      <td>36</td>\n",
              "      <td>111</td>\n",
              "    </tr>\n",
              "    <tr>\n",
              "      <th>34</th>\n",
              "      <td>Breakfast</td>\n",
              "      <td>Big Breakfast with Hotcakes and Egg Whites (La...</td>\n",
              "      <td>1050</td>\n",
              "      <td>50.0</td>\n",
              "      <td>35</td>\n",
              "      <td>115</td>\n",
              "    </tr>\n",
              "    <tr>\n",
              "      <th>33</th>\n",
              "      <td>Breakfast</td>\n",
              "      <td>Big Breakfast with Hotcakes and Egg Whites (Re...</td>\n",
              "      <td>990</td>\n",
              "      <td>46.0</td>\n",
              "      <td>35</td>\n",
              "      <td>110</td>\n",
              "    </tr>\n",
              "  </tbody>\n",
              "</table>\n",
              "</div>"
            ],
            "text/plain": [
              "          Category  ... Carbohydrates\n",
              "82  Chicken & Fish  ...           118\n",
              "32       Breakfast  ...           116\n",
              "31       Breakfast  ...           111\n",
              "34       Breakfast  ...           115\n",
              "33       Breakfast  ...           110\n",
              "\n",
              "[5 rows x 6 columns]"
            ]
          },
          "metadata": {
            "tags": []
          },
          "execution_count": 31
        }
      ]
    },
    {
      "cell_type": "code",
      "metadata": {
        "id": "k6MN1gXvCQcV",
        "outputId": "1305fbb2-e0b8-4f62-f2ea-760712885b7e",
        "colab": {
          "base_uri": "https://localhost:8080/",
          "height": 195
        }
      },
      "source": [
        "filtered2.head()"
      ],
      "execution_count": null,
      "outputs": [
        {
          "output_type": "execute_result",
          "data": {
            "text/html": [
              "<div>\n",
              "<style scoped>\n",
              "    .dataframe tbody tr th:only-of-type {\n",
              "        vertical-align: middle;\n",
              "    }\n",
              "\n",
              "    .dataframe tbody tr th {\n",
              "        vertical-align: top;\n",
              "    }\n",
              "\n",
              "    .dataframe thead th {\n",
              "        text-align: right;\n",
              "    }\n",
              "</style>\n",
              "<table border=\"1\" class=\"dataframe\">\n",
              "  <thead>\n",
              "    <tr style=\"text-align: right;\">\n",
              "      <th></th>\n",
              "      <th>Category</th>\n",
              "      <th>Item</th>\n",
              "      <th>Calories</th>\n",
              "      <th>Total Fat</th>\n",
              "      <th>Protein</th>\n",
              "      <th>Carbohydrates</th>\n",
              "    </tr>\n",
              "  </thead>\n",
              "  <tbody>\n",
              "    <tr>\n",
              "      <th>12</th>\n",
              "      <td>Breakfast</td>\n",
              "      <td>Sausage Biscuit with Egg (Regular Biscuit)</td>\n",
              "      <td>510</td>\n",
              "      <td>33.0</td>\n",
              "      <td>18</td>\n",
              "      <td>36</td>\n",
              "    </tr>\n",
              "    <tr>\n",
              "      <th>253</th>\n",
              "      <td>Smoothies &amp; Shakes</td>\n",
              "      <td>McFlurry with M&amp;M’s Candies (Medium)</td>\n",
              "      <td>930</td>\n",
              "      <td>33.0</td>\n",
              "      <td>20</td>\n",
              "      <td>139</td>\n",
              "    </tr>\n",
              "    <tr>\n",
              "      <th>59</th>\n",
              "      <td>Chicken &amp; Fish</td>\n",
              "      <td>Premium Crispy Chicken Club Sandwich</td>\n",
              "      <td>670</td>\n",
              "      <td>33.0</td>\n",
              "      <td>36</td>\n",
              "      <td>58</td>\n",
              "    </tr>\n",
              "    <tr>\n",
              "      <th>74</th>\n",
              "      <td>Chicken &amp; Fish</td>\n",
              "      <td>Premium McWrap Southwest Chicken (Crispy Chicken)</td>\n",
              "      <td>670</td>\n",
              "      <td>33.0</td>\n",
              "      <td>27</td>\n",
              "      <td>68</td>\n",
              "    </tr>\n",
              "    <tr>\n",
              "      <th>18</th>\n",
              "      <td>Breakfast</td>\n",
              "      <td>Steak &amp; Egg Biscuit (Regular Biscuit)</td>\n",
              "      <td>540</td>\n",
              "      <td>32.0</td>\n",
              "      <td>25</td>\n",
              "      <td>38</td>\n",
              "    </tr>\n",
              "  </tbody>\n",
              "</table>\n",
              "</div>"
            ],
            "text/plain": [
              "               Category  ... Carbohydrates\n",
              "12            Breakfast  ...            36\n",
              "253  Smoothies & Shakes  ...           139\n",
              "59       Chicken & Fish  ...            58\n",
              "74       Chicken & Fish  ...            68\n",
              "18            Breakfast  ...            38\n",
              "\n",
              "[5 rows x 6 columns]"
            ]
          },
          "metadata": {
            "tags": []
          },
          "execution_count": 32
        }
      ]
    },
    {
      "cell_type": "code",
      "metadata": {
        "id": "FbGzxhIoCdcE",
        "outputId": "94432e6a-ff50-4f20-f237-8268687a9f5d",
        "colab": {
          "base_uri": "https://localhost:8080/",
          "height": 195
        }
      },
      "source": [
        "filtered3.head()"
      ],
      "execution_count": null,
      "outputs": [
        {
          "output_type": "execute_result",
          "data": {
            "text/html": [
              "<div>\n",
              "<style scoped>\n",
              "    .dataframe tbody tr th:only-of-type {\n",
              "        vertical-align: middle;\n",
              "    }\n",
              "\n",
              "    .dataframe tbody tr th {\n",
              "        vertical-align: top;\n",
              "    }\n",
              "\n",
              "    .dataframe thead th {\n",
              "        text-align: right;\n",
              "    }\n",
              "</style>\n",
              "<table border=\"1\" class=\"dataframe\">\n",
              "  <thead>\n",
              "    <tr style=\"text-align: right;\">\n",
              "      <th></th>\n",
              "      <th>Category</th>\n",
              "      <th>Item</th>\n",
              "      <th>Calories</th>\n",
              "      <th>Total Fat</th>\n",
              "      <th>Protein</th>\n",
              "      <th>Carbohydrates</th>\n",
              "    </tr>\n",
              "  </thead>\n",
              "  <tbody>\n",
              "    <tr>\n",
              "      <th>81</th>\n",
              "      <td>Chicken &amp; Fish</td>\n",
              "      <td>Chicken McNuggets (20 piece)</td>\n",
              "      <td>940</td>\n",
              "      <td>59.0</td>\n",
              "      <td>44</td>\n",
              "      <td>59</td>\n",
              "    </tr>\n",
              "    <tr>\n",
              "      <th>64</th>\n",
              "      <td>Chicken &amp; Fish</td>\n",
              "      <td>Bacon Clubhouse Grilled Chicken Sandwich</td>\n",
              "      <td>590</td>\n",
              "      <td>25.0</td>\n",
              "      <td>40</td>\n",
              "      <td>51</td>\n",
              "    </tr>\n",
              "    <tr>\n",
              "      <th>60</th>\n",
              "      <td>Chicken &amp; Fish</td>\n",
              "      <td>Premium Grilled Chicken Club Sandwich</td>\n",
              "      <td>510</td>\n",
              "      <td>20.0</td>\n",
              "      <td>40</td>\n",
              "      <td>44</td>\n",
              "    </tr>\n",
              "    <tr>\n",
              "      <th>51</th>\n",
              "      <td>Beef &amp; Pork</td>\n",
              "      <td>Bacon Clubhouse Burger</td>\n",
              "      <td>720</td>\n",
              "      <td>40.0</td>\n",
              "      <td>39</td>\n",
              "      <td>51</td>\n",
              "    </tr>\n",
              "    <tr>\n",
              "      <th>44</th>\n",
              "      <td>Beef &amp; Pork</td>\n",
              "      <td>Quarter Pounder with Bacon &amp; Cheese</td>\n",
              "      <td>600</td>\n",
              "      <td>29.0</td>\n",
              "      <td>37</td>\n",
              "      <td>48</td>\n",
              "    </tr>\n",
              "  </tbody>\n",
              "</table>\n",
              "</div>"
            ],
            "text/plain": [
              "          Category  ... Carbohydrates\n",
              "81  Chicken & Fish  ...            59\n",
              "64  Chicken & Fish  ...            51\n",
              "60  Chicken & Fish  ...            44\n",
              "51     Beef & Pork  ...            51\n",
              "44     Beef & Pork  ...            48\n",
              "\n",
              "[5 rows x 6 columns]"
            ]
          },
          "metadata": {
            "tags": []
          },
          "execution_count": 33
        }
      ]
    },
    {
      "cell_type": "code",
      "metadata": {
        "id": "-qKplyh0CkoQ",
        "outputId": "13eeefbd-34bb-4826-db36-1139553bd643",
        "colab": {
          "base_uri": "https://localhost:8080/",
          "height": 195
        }
      },
      "source": [
        "filtered4.head()"
      ],
      "execution_count": null,
      "outputs": [
        {
          "output_type": "execute_result",
          "data": {
            "text/html": [
              "<div>\n",
              "<style scoped>\n",
              "    .dataframe tbody tr th:only-of-type {\n",
              "        vertical-align: middle;\n",
              "    }\n",
              "\n",
              "    .dataframe tbody tr th {\n",
              "        vertical-align: top;\n",
              "    }\n",
              "\n",
              "    .dataframe thead th {\n",
              "        text-align: right;\n",
              "    }\n",
              "</style>\n",
              "<table border=\"1\" class=\"dataframe\">\n",
              "  <thead>\n",
              "    <tr style=\"text-align: right;\">\n",
              "      <th></th>\n",
              "      <th>Category</th>\n",
              "      <th>Item</th>\n",
              "      <th>Calories</th>\n",
              "      <th>Total Fat</th>\n",
              "      <th>Protein</th>\n",
              "      <th>Carbohydrates</th>\n",
              "    </tr>\n",
              "  </thead>\n",
              "  <tbody>\n",
              "    <tr>\n",
              "      <th>249</th>\n",
              "      <td>Smoothies &amp; Shakes</td>\n",
              "      <td>Chocolate Shake (Large)</td>\n",
              "      <td>850</td>\n",
              "      <td>23.0</td>\n",
              "      <td>19</td>\n",
              "      <td>141</td>\n",
              "    </tr>\n",
              "    <tr>\n",
              "      <th>246</th>\n",
              "      <td>Smoothies &amp; Shakes</td>\n",
              "      <td>Strawberry Shake (Large)</td>\n",
              "      <td>850</td>\n",
              "      <td>24.0</td>\n",
              "      <td>18</td>\n",
              "      <td>140</td>\n",
              "    </tr>\n",
              "    <tr>\n",
              "      <th>253</th>\n",
              "      <td>Smoothies &amp; Shakes</td>\n",
              "      <td>McFlurry with M&amp;M’s Candies (Medium)</td>\n",
              "      <td>930</td>\n",
              "      <td>33.0</td>\n",
              "      <td>20</td>\n",
              "      <td>139</td>\n",
              "    </tr>\n",
              "    <tr>\n",
              "      <th>243</th>\n",
              "      <td>Smoothies &amp; Shakes</td>\n",
              "      <td>Vanilla Shake (Large)</td>\n",
              "      <td>820</td>\n",
              "      <td>23.0</td>\n",
              "      <td>18</td>\n",
              "      <td>135</td>\n",
              "    </tr>\n",
              "    <tr>\n",
              "      <th>251</th>\n",
              "      <td>Smoothies &amp; Shakes</td>\n",
              "      <td>Shamrock Shake (Large)</td>\n",
              "      <td>820</td>\n",
              "      <td>23.0</td>\n",
              "      <td>18</td>\n",
              "      <td>135</td>\n",
              "    </tr>\n",
              "  </tbody>\n",
              "</table>\n",
              "</div>"
            ],
            "text/plain": [
              "               Category  ... Carbohydrates\n",
              "249  Smoothies & Shakes  ...           141\n",
              "246  Smoothies & Shakes  ...           140\n",
              "253  Smoothies & Shakes  ...           139\n",
              "243  Smoothies & Shakes  ...           135\n",
              "251  Smoothies & Shakes  ...           135\n",
              "\n",
              "[5 rows x 6 columns]"
            ]
          },
          "metadata": {
            "tags": []
          },
          "execution_count": 34
        }
      ]
    },
    {
      "cell_type": "code",
      "metadata": {
        "id": "jElscGw6ClIw"
      },
      "source": [
        ""
      ],
      "execution_count": null,
      "outputs": []
    }
  ]
}